{
  "nbformat": 4,
  "nbformat_minor": 0,
  "metadata": {
    "colab": {
      "provenance": [],
      "gpuType": "T4"
    },
    "kernelspec": {
      "name": "python3",
      "display_name": "Python 3"
    },
    "language_info": {
      "name": "python"
    },
    "accelerator": "GPU"
  },
  "cells": [
    {
      "cell_type": "code",
      "execution_count": 2,
      "metadata": {
        "colab": {
          "base_uri": "https://localhost:8080/"
        },
        "id": "II98fBqhxFw2",
        "outputId": "e69437ae-3fb6-4b54-844c-a6e4a22140e0"
      },
      "outputs": [
        {
          "output_type": "stream",
          "name": "stdout",
          "text": [
            "Hello Colab!\n"
          ]
        }
      ],
      "source": [
        "print(\"Hello Colab!\")"
      ]
    },
    {
      "cell_type": "code",
      "source": [
        "# Required later in module\n",
        "!pip install biopython"
      ],
      "metadata": {
        "colab": {
          "base_uri": "https://localhost:8080/"
        },
        "id": "VSGl0g4ixOZq",
        "outputId": "595ecd40-5a68-459e-c1a9-af6c30326758"
      },
      "execution_count": 3,
      "outputs": [
        {
          "output_type": "stream",
          "name": "stdout",
          "text": [
            "Collecting biopython\n",
            "  Downloading biopython-1.85-cp312-cp312-manylinux_2_17_x86_64.manylinux2014_x86_64.whl.metadata (13 kB)\n",
            "Requirement already satisfied: numpy in /usr/local/lib/python3.12/dist-packages (from biopython) (2.0.2)\n",
            "Downloading biopython-1.85-cp312-cp312-manylinux_2_17_x86_64.manylinux2014_x86_64.whl (3.3 MB)\n",
            "\u001b[2K   \u001b[90m━━━━━━━━━━━━━━━━━━━━━━━━━━━━━━━━━━━━━━━━\u001b[0m \u001b[32m3.3/3.3 MB\u001b[0m \u001b[31m56.0 MB/s\u001b[0m eta \u001b[36m0:00:00\u001b[0m\n",
            "\u001b[?25hInstalling collected packages: biopython\n",
            "Successfully installed biopython-1.85\n"
          ]
        }
      ]
    },
    {
      "cell_type": "markdown",
      "source": [
        "\n",
        "\n",
        "# P6.1"
      ],
      "metadata": {
        "id": "2B6b3ZQGxXFD"
      }
    },
    {
      "cell_type": "code",
      "source": [
        "name = input(\"Enter your name: \")\n",
        "print(\"Hello\", name)"
      ],
      "metadata": {
        "colab": {
          "base_uri": "https://localhost:8080/"
        },
        "id": "iIQNI2pRxaeW",
        "outputId": "b20a54ae-c336-4b10-9587-4975d9d3a089"
      },
      "execution_count": 4,
      "outputs": [
        {
          "output_type": "stream",
          "name": "stdout",
          "text": [
            "Enter your name: Soham\n",
            "Hello Soham\n"
          ]
        }
      ]
    },
    {
      "cell_type": "markdown",
      "source": [
        "\n",
        "\n",
        "# P6.2 - Rosalind #1"
      ],
      "metadata": {
        "id": "TxfLLqrQxh2I"
      }
    },
    {
      "cell_type": "code",
      "source": [
        "a = float(input(\"Enter side a: \"))\n",
        "b = float(input(\"Enter side b: \"))\n",
        "print(\"c^2 =\", a**2 + b**2)   # square of hypotenuse"
      ],
      "metadata": {
        "colab": {
          "base_uri": "https://localhost:8080/"
        },
        "id": "Mj0k7NIfxdpg",
        "outputId": "d3370b04-9944-4ddc-cec4-41864c4bab4a"
      },
      "execution_count": 5,
      "outputs": [
        {
          "output_type": "stream",
          "name": "stdout",
          "text": [
            "Enter side a: 889 \n",
            "Enter side b: 888\n",
            "c^2 = 1578865.0\n"
          ]
        }
      ]
    },
    {
      "cell_type": "markdown",
      "source": [
        "\n",
        "\n",
        "# P7.1"
      ],
      "metadata": {
        "id": "yS7KxgI4yHT1"
      }
    },
    {
      "cell_type": "code",
      "source": [
        "my_list = [\"Hello\", \"World\", \"Charles Darwin\"]\n",
        "print(my_list[1])  # \"World\" (0-based indexing)"
      ],
      "metadata": {
        "colab": {
          "base_uri": "https://localhost:8080/"
        },
        "id": "O_8jHapmxlG3",
        "outputId": "f7542492-e7ed-4358-8ca3-c2c57deb5829"
      },
      "execution_count": 6,
      "outputs": [
        {
          "output_type": "stream",
          "name": "stdout",
          "text": [
            "World\n"
          ]
        }
      ]
    },
    {
      "cell_type": "markdown",
      "source": [
        "# P7.2"
      ],
      "metadata": {
        "id": "uX6Vjh9dyPYs"
      }
    },
    {
      "cell_type": "code",
      "source": [
        "my_list[2] = \"Soham Jagrit\"\n",
        "print(my_list)"
      ],
      "metadata": {
        "colab": {
          "base_uri": "https://localhost:8080/"
        },
        "id": "NbR0NvdeyM7V",
        "outputId": "87a51278-d056-4879-c1c9-8e42bfdccdf9"
      },
      "execution_count": 7,
      "outputs": [
        {
          "output_type": "stream",
          "name": "stdout",
          "text": [
            "['Hello', 'World', 'Soham Jagrit']\n"
          ]
        }
      ]
    },
    {
      "cell_type": "markdown",
      "source": [
        "# P7.3"
      ],
      "metadata": {
        "id": "xYzhNWp7ya3M"
      }
    },
    {
      "cell_type": "code",
      "source": [
        "my_list.append(\"Charles Darwin\")\n",
        "print(my_list)"
      ],
      "metadata": {
        "colab": {
          "base_uri": "https://localhost:8080/"
        },
        "id": "HjTfM_i4ySSJ",
        "outputId": "366b313b-8726-4f49-e5ef-45e8a1606c5d"
      },
      "execution_count": 8,
      "outputs": [
        {
          "output_type": "stream",
          "name": "stdout",
          "text": [
            "['Hello', 'World', 'Soham Jagrit', 'Charles Darwin']\n"
          ]
        }
      ]
    },
    {
      "cell_type": "markdown",
      "source": [
        "# P7.4"
      ],
      "metadata": {
        "id": "JuSITDbIyokG"
      }
    },
    {
      "cell_type": "code",
      "source": [
        "my_list.insert(1, \"Inserted item at position 1\")\n",
        "print(my_list)"
      ],
      "metadata": {
        "colab": {
          "base_uri": "https://localhost:8080/"
        },
        "id": "Vkg7UgAoye59",
        "outputId": "8cd3189d-2a6f-462b-b1a6-1c187999a842"
      },
      "execution_count": 9,
      "outputs": [
        {
          "output_type": "stream",
          "name": "stdout",
          "text": [
            "['Hello', 'Inserted item at position 1', 'World', 'Soham Jagrit', 'Charles Darwin']\n"
          ]
        }
      ]
    },
    {
      "cell_type": "markdown",
      "source": [
        "\n",
        "\n",
        "# P8.1"
      ],
      "metadata": {
        "id": "9UJ1jQx4yxLJ"
      }
    },
    {
      "cell_type": "code",
      "source": [
        "# expecting: [\"World\", \"Alfred R. Wallace\"]\n",
        "print(my_list[2:4])  # non-inclusive end"
      ],
      "metadata": {
        "colab": {
          "base_uri": "https://localhost:8080/"
        },
        "id": "qm0qjE98yubU",
        "outputId": "d0e6e817-da83-4a68-8c8c-207f71383f1b"
      },
      "execution_count": 10,
      "outputs": [
        {
          "output_type": "stream",
          "name": "stdout",
          "text": [
            "['World', 'Soham Jagrit']\n"
          ]
        }
      ]
    },
    {
      "cell_type": "markdown",
      "source": [
        "\n",
        "\n",
        "\n",
        "\n",
        "# P8.2"
      ],
      "metadata": {
        "id": "_Xyz9lB1y7BR"
      }
    },
    {
      "cell_type": "code",
      "source": [
        "my_string = \"HelloWorldCharlesDarwinAlfred R. Wallace\"\n",
        "# target: \"Wallace World\"\n",
        "hello_world = my_string[0:5] + \" \" + my_string[5:10]  # \"Hello World\" (just demo)\n",
        "wallace = my_string[my_string.index(\"Wallace\"): my_string.index(\"Wallace\")+7]\n",
        "world = my_string[5:10]\n",
        "print(wallace + \" \" + world)"
      ],
      "metadata": {
        "colab": {
          "base_uri": "https://localhost:8080/"
        },
        "id": "L-NmQZYOy0ty",
        "outputId": "b6ab1bda-b2a2-41f8-fcbd-aabcc6ad9feb"
      },
      "execution_count": 11,
      "outputs": [
        {
          "output_type": "stream",
          "name": "stdout",
          "text": [
            "Wallace World\n"
          ]
        }
      ]
    },
    {
      "cell_type": "markdown",
      "source": [
        "# P8.3 – Rosalind #2"
      ],
      "metadata": {
        "id": "m1P-6i1ZzF85"
      }
    },
    {
      "cell_type": "code",
      "source": [
        "s = input().strip()\n",
        "a, b, c, d = map(int, input().split())\n",
        "print(s[a:b+1], s[c:d+1])"
      ],
      "metadata": {
        "colab": {
          "base_uri": "https://localhost:8080/"
        },
        "id": "uacXj8j6y-mf",
        "outputId": "c9cfe6e8-f6cc-4d1d-accb-6036652361a3"
      },
      "execution_count": 12,
      "outputs": [
        {
          "output_type": "stream",
          "name": "stdout",
          "text": [
            "2T6kKKErRzTh1zBosVaSzo8wT9uuRywA8s8xwaRqqdcWThUMNfKD5nU328TNPUdCwWccMonticolaH0E3z4FjVv5m2pi1r3QpCLQe81eyRtx844Cl0lL9kqgL6JUMm5upJQ0WAT0mbp7mQ5jrufuszeZgIS7rvBKW9Xg1ip6ASAVrQXe.\n",
            "68 76 144 148\n",
            "Monticola rufus\n"
          ]
        }
      ]
    },
    {
      "cell_type": "markdown",
      "source": [
        "\n",
        "\n",
        "# P9.1"
      ],
      "metadata": {
        "id": "J5UZUbvPzhKt"
      }
    },
    {
      "cell_type": "code",
      "source": [
        "x = int(input(\"x: \"))\n",
        "y = int(input(\"y: \"))\n",
        "if x == y:\n",
        "    print(x + y)\n",
        "else:\n",
        "    print(x - y)"
      ],
      "metadata": {
        "colab": {
          "base_uri": "https://localhost:8080/"
        },
        "id": "tWaPZ14BzK98",
        "outputId": "4054eadb-f657-4150-fe44-01be411920d3"
      },
      "execution_count": 13,
      "outputs": [
        {
          "output_type": "stream",
          "name": "stdout",
          "text": [
            "x: 5\n",
            "y: 3\n",
            "2\n"
          ]
        }
      ]
    },
    {
      "cell_type": "markdown",
      "source": [
        "\n",
        "\n",
        "# P10.1"
      ],
      "metadata": {
        "id": "tmQHzFNlz5MS"
      }
    },
    {
      "cell_type": "code",
      "source": [
        "a = 0\n",
        "while a < 3:\n",
        "    print(\"Count \" + str(a+1) + \"!\")\n",
        "    a += 1"
      ],
      "metadata": {
        "colab": {
          "base_uri": "https://localhost:8080/"
        },
        "id": "RkxiGN0EzkLE",
        "outputId": "b93f8942-d35b-45bc-cd3d-24ec905fdb26"
      },
      "execution_count": null,
      "outputs": [
        {
          "output_type": "stream",
          "name": "stdout",
          "text": [
            "Count 1!\n",
            "Count 2!\n",
            "Count 3!\n"
          ]
        }
      ]
    },
    {
      "cell_type": "markdown",
      "source": [
        "\n",
        "# P11.1"
      ],
      "metadata": {
        "id": "zJALCZyF0N8S"
      }
    },
    {
      "cell_type": "code",
      "source": [
        "names = [\"Soham\", \"Isha\", \"Het\"]\n",
        "for name in names:\n",
        "    print(\"Hello\", name)"
      ],
      "metadata": {
        "colab": {
          "base_uri": "https://localhost:8080/"
        },
        "id": "Kp63SRxLz8Ts",
        "outputId": "8f879f10-bfc9-444a-f60e-e22606b71270"
      },
      "execution_count": 14,
      "outputs": [
        {
          "output_type": "stream",
          "name": "stdout",
          "text": [
            "Hello Soham\n",
            "Hello Isha\n",
            "Hello Het\n"
          ]
        }
      ]
    },
    {
      "cell_type": "markdown",
      "source": [
        "\n",
        "\n",
        "# P12.1"
      ],
      "metadata": {
        "id": "WPjnz2EE0k93"
      }
    },
    {
      "cell_type": "code",
      "source": [
        "iterations = 10\n",
        "for number in range(iterations):\n",
        "    print(number)   # 0..9 (10 numbers)"
      ],
      "metadata": {
        "colab": {
          "base_uri": "https://localhost:8080/"
        },
        "id": "A6DM4EYP0b0f",
        "outputId": "470a3224-79bb-438a-86ff-76bf7d8224e7"
      },
      "execution_count": 15,
      "outputs": [
        {
          "output_type": "stream",
          "name": "stdout",
          "text": [
            "0\n",
            "1\n",
            "2\n",
            "3\n",
            "4\n",
            "5\n",
            "6\n",
            "7\n",
            "8\n",
            "9\n"
          ]
        }
      ]
    },
    {
      "cell_type": "markdown",
      "source": [
        "\n",
        "# P12.2"
      ],
      "metadata": {
        "id": "b9l8K-0h0urj"
      }
    },
    {
      "cell_type": "code",
      "source": [
        "for number in range(9, 28, 3):  # 9..27 inclusive\n",
        "    print(number)"
      ],
      "metadata": {
        "colab": {
          "base_uri": "https://localhost:8080/"
        },
        "id": "EhWxkQNv0niT",
        "outputId": "9ab85727-6089-4026-8142-0b690bf9cd36"
      },
      "execution_count": 16,
      "outputs": [
        {
          "output_type": "stream",
          "name": "stdout",
          "text": [
            "9\n",
            "12\n",
            "15\n",
            "18\n",
            "21\n",
            "24\n",
            "27\n"
          ]
        }
      ]
    },
    {
      "cell_type": "markdown",
      "source": [
        "# P12.3 – Rosalind #3"
      ],
      "metadata": {
        "id": "eudphlab06yT"
      }
    },
    {
      "cell_type": "code",
      "source": [
        "a, b = map(int, input().split())\n",
        "print(sum(n for n in range(a, b+1) if n % 2 == 1))"
      ],
      "metadata": {
        "colab": {
          "base_uri": "https://localhost:8080/"
        },
        "id": "_ViC4Nbt0wyW",
        "outputId": "9d08b65e-d101-4d61-baa5-2c048bfaeb12"
      },
      "execution_count": 18,
      "outputs": [
        {
          "output_type": "stream",
          "name": "stdout",
          "text": [
            "4155 8593\n",
            "14150280\n"
          ]
        }
      ]
    },
    {
      "cell_type": "markdown",
      "source": [
        "# P13.1"
      ],
      "metadata": {
        "id": "cjsFlSz22pj1"
      }
    },
    {
      "cell_type": "code",
      "source": [
        "from google.colab import files\n",
        "uploaded = files.upload()  # pick your practice.txt\n",
        "\n",
        "with open(\"practice.txt\", \"r\", encoding=\"utf-8\") as f:\n",
        "    print(f.read())"
      ],
      "metadata": {
        "colab": {
          "base_uri": "https://localhost:8080/",
          "height": 784
        },
        "id": "6g_sRS3h09nz",
        "outputId": "6645a2a4-36a4-4969-8ce6-b2ef0b1d4e98"
      },
      "execution_count": 19,
      "outputs": [
        {
          "output_type": "display_data",
          "data": {
            "text/plain": [
              "<IPython.core.display.HTML object>"
            ],
            "text/html": [
              "\n",
              "     <input type=\"file\" id=\"files-f3e67883-774b-40cb-aec8-ce36ef990eaf\" name=\"files[]\" multiple disabled\n",
              "        style=\"border:none\" />\n",
              "     <output id=\"result-f3e67883-774b-40cb-aec8-ce36ef990eaf\">\n",
              "      Upload widget is only available when the cell has been executed in the\n",
              "      current browser session. Please rerun this cell to enable.\n",
              "      </output>\n",
              "      <script>// Copyright 2017 Google LLC\n",
              "//\n",
              "// Licensed under the Apache License, Version 2.0 (the \"License\");\n",
              "// you may not use this file except in compliance with the License.\n",
              "// You may obtain a copy of the License at\n",
              "//\n",
              "//      http://www.apache.org/licenses/LICENSE-2.0\n",
              "//\n",
              "// Unless required by applicable law or agreed to in writing, software\n",
              "// distributed under the License is distributed on an \"AS IS\" BASIS,\n",
              "// WITHOUT WARRANTIES OR CONDITIONS OF ANY KIND, either express or implied.\n",
              "// See the License for the specific language governing permissions and\n",
              "// limitations under the License.\n",
              "\n",
              "/**\n",
              " * @fileoverview Helpers for google.colab Python module.\n",
              " */\n",
              "(function(scope) {\n",
              "function span(text, styleAttributes = {}) {\n",
              "  const element = document.createElement('span');\n",
              "  element.textContent = text;\n",
              "  for (const key of Object.keys(styleAttributes)) {\n",
              "    element.style[key] = styleAttributes[key];\n",
              "  }\n",
              "  return element;\n",
              "}\n",
              "\n",
              "// Max number of bytes which will be uploaded at a time.\n",
              "const MAX_PAYLOAD_SIZE = 100 * 1024;\n",
              "\n",
              "function _uploadFiles(inputId, outputId) {\n",
              "  const steps = uploadFilesStep(inputId, outputId);\n",
              "  const outputElement = document.getElementById(outputId);\n",
              "  // Cache steps on the outputElement to make it available for the next call\n",
              "  // to uploadFilesContinue from Python.\n",
              "  outputElement.steps = steps;\n",
              "\n",
              "  return _uploadFilesContinue(outputId);\n",
              "}\n",
              "\n",
              "// This is roughly an async generator (not supported in the browser yet),\n",
              "// where there are multiple asynchronous steps and the Python side is going\n",
              "// to poll for completion of each step.\n",
              "// This uses a Promise to block the python side on completion of each step,\n",
              "// then passes the result of the previous step as the input to the next step.\n",
              "function _uploadFilesContinue(outputId) {\n",
              "  const outputElement = document.getElementById(outputId);\n",
              "  const steps = outputElement.steps;\n",
              "\n",
              "  const next = steps.next(outputElement.lastPromiseValue);\n",
              "  return Promise.resolve(next.value.promise).then((value) => {\n",
              "    // Cache the last promise value to make it available to the next\n",
              "    // step of the generator.\n",
              "    outputElement.lastPromiseValue = value;\n",
              "    return next.value.response;\n",
              "  });\n",
              "}\n",
              "\n",
              "/**\n",
              " * Generator function which is called between each async step of the upload\n",
              " * process.\n",
              " * @param {string} inputId Element ID of the input file picker element.\n",
              " * @param {string} outputId Element ID of the output display.\n",
              " * @return {!Iterable<!Object>} Iterable of next steps.\n",
              " */\n",
              "function* uploadFilesStep(inputId, outputId) {\n",
              "  const inputElement = document.getElementById(inputId);\n",
              "  inputElement.disabled = false;\n",
              "\n",
              "  const outputElement = document.getElementById(outputId);\n",
              "  outputElement.innerHTML = '';\n",
              "\n",
              "  const pickedPromise = new Promise((resolve) => {\n",
              "    inputElement.addEventListener('change', (e) => {\n",
              "      resolve(e.target.files);\n",
              "    });\n",
              "  });\n",
              "\n",
              "  const cancel = document.createElement('button');\n",
              "  inputElement.parentElement.appendChild(cancel);\n",
              "  cancel.textContent = 'Cancel upload';\n",
              "  const cancelPromise = new Promise((resolve) => {\n",
              "    cancel.onclick = () => {\n",
              "      resolve(null);\n",
              "    };\n",
              "  });\n",
              "\n",
              "  // Wait for the user to pick the files.\n",
              "  const files = yield {\n",
              "    promise: Promise.race([pickedPromise, cancelPromise]),\n",
              "    response: {\n",
              "      action: 'starting',\n",
              "    }\n",
              "  };\n",
              "\n",
              "  cancel.remove();\n",
              "\n",
              "  // Disable the input element since further picks are not allowed.\n",
              "  inputElement.disabled = true;\n",
              "\n",
              "  if (!files) {\n",
              "    return {\n",
              "      response: {\n",
              "        action: 'complete',\n",
              "      }\n",
              "    };\n",
              "  }\n",
              "\n",
              "  for (const file of files) {\n",
              "    const li = document.createElement('li');\n",
              "    li.append(span(file.name, {fontWeight: 'bold'}));\n",
              "    li.append(span(\n",
              "        `(${file.type || 'n/a'}) - ${file.size} bytes, ` +\n",
              "        `last modified: ${\n",
              "            file.lastModifiedDate ? file.lastModifiedDate.toLocaleDateString() :\n",
              "                                    'n/a'} - `));\n",
              "    const percent = span('0% done');\n",
              "    li.appendChild(percent);\n",
              "\n",
              "    outputElement.appendChild(li);\n",
              "\n",
              "    const fileDataPromise = new Promise((resolve) => {\n",
              "      const reader = new FileReader();\n",
              "      reader.onload = (e) => {\n",
              "        resolve(e.target.result);\n",
              "      };\n",
              "      reader.readAsArrayBuffer(file);\n",
              "    });\n",
              "    // Wait for the data to be ready.\n",
              "    let fileData = yield {\n",
              "      promise: fileDataPromise,\n",
              "      response: {\n",
              "        action: 'continue',\n",
              "      }\n",
              "    };\n",
              "\n",
              "    // Use a chunked sending to avoid message size limits. See b/62115660.\n",
              "    let position = 0;\n",
              "    do {\n",
              "      const length = Math.min(fileData.byteLength - position, MAX_PAYLOAD_SIZE);\n",
              "      const chunk = new Uint8Array(fileData, position, length);\n",
              "      position += length;\n",
              "\n",
              "      const base64 = btoa(String.fromCharCode.apply(null, chunk));\n",
              "      yield {\n",
              "        response: {\n",
              "          action: 'append',\n",
              "          file: file.name,\n",
              "          data: base64,\n",
              "        },\n",
              "      };\n",
              "\n",
              "      let percentDone = fileData.byteLength === 0 ?\n",
              "          100 :\n",
              "          Math.round((position / fileData.byteLength) * 100);\n",
              "      percent.textContent = `${percentDone}% done`;\n",
              "\n",
              "    } while (position < fileData.byteLength);\n",
              "  }\n",
              "\n",
              "  // All done.\n",
              "  yield {\n",
              "    response: {\n",
              "      action: 'complete',\n",
              "    }\n",
              "  };\n",
              "}\n",
              "\n",
              "scope.google = scope.google || {};\n",
              "scope.google.colab = scope.google.colab || {};\n",
              "scope.google.colab._files = {\n",
              "  _uploadFiles,\n",
              "  _uploadFilesContinue,\n",
              "};\n",
              "})(self);\n",
              "</script> "
            ]
          },
          "metadata": {}
        },
        {
          "output_type": "stream",
          "name": "stdout",
          "text": [
            "Saving practice.txt to practice.txt\n",
            "`Twas brillig, and the slithy toves\n",
            "Some things in life are bad, they can really make you mad\n",
            "  Did gyre and gimble in the wabe:\n",
            "Other things just make you swear and curse\n",
            "All mimsy were the borogoves,\n",
            "When you're chewing on life's gristle, don't grumble give a whistle\n",
            "  And the mome raths outgrabe.\n",
            "This will help things turn out for the best\n",
            "\"Beware the Jabberwock, my son!\n",
            "Always look on the bright side of life\n",
            "  The jaws that bite, the claws that catch!\n",
            "Always look on the right side of life\n",
            "Beware the Jubjub bird, and shun\n",
            "If life seems jolly rotten, there's something you've forgotten\n",
            "  The frumious Bandersnatch!\"\n",
            "And that's to laugh and smile and dance and sing\n",
            "He took his vorpal sword in hand:\n",
            "When you're feeling in the dumps, don't be silly, chumps\n",
            "  Long time the manxome foe he sought --\n",
            "Just purse your lips and whistle, that's the thing\n",
            "So rested he by the Tumtum tree,\n",
            "So, always look on the bright side of death\n",
            "  And stood awhile in thought.\n",
            "Just before you draw your terminal breath\n",
            "And, as in uffish thought he stood,\n",
            "Life's a counterfeit and when you look at it\n",
            "  The Jabberwock, with eyes of flame,\n",
            "Life's a laugh and death's the joke, it's true\n",
            "Came whiffling through the tulgey wood,\n",
            "You see, it's all a show, keep them laughing as you go\n",
            "  And burbled as it came!\n",
            "Just remember the last laugh is on you\n",
            "One, two! One, two! And through and through\n",
            "Always look on the bright side of life\n",
            "  The vorpal blade went snicker-snack!\n",
            "And always look on the right side of life\n",
            "He left it dead, and with its head\n",
            "Always look on the bright side of life\n",
            "  He went galumphing back.\n",
            "And always look on the right side of life\n",
            "\n"
          ]
        }
      ]
    },
    {
      "cell_type": "markdown",
      "source": [
        "# P13.2"
      ],
      "metadata": {
        "id": "7ywm2Jxs2uLv"
      }
    },
    {
      "cell_type": "code",
      "source": [
        "with open(\"practice.txt\", \"r\") as data:\n",
        "    whole = data.read()\n",
        "    print(\"[read()] ->\"); print(whole)\n",
        "\n",
        "with open(\"practice.txt\", \"r\") as data:\n",
        "    line1 = data.readline()\n",
        "    print(\"\\n[readline()] ->\"); print(line1, end=\"\")\n",
        "\n",
        "with open(\"practice.txt\", \"r\") as data:\n",
        "    lines = data.readlines()\n",
        "    print(\"\\n[readlines()] ->\"); print(lines)"
      ],
      "metadata": {
        "colab": {
          "base_uri": "https://localhost:8080/"
        },
        "id": "Q9A5I_KI2xG1",
        "outputId": "2b07622f-0a7c-4306-fbf8-0a5f2de2ae37"
      },
      "execution_count": 20,
      "outputs": [
        {
          "output_type": "stream",
          "name": "stdout",
          "text": [
            "[read()] ->\n",
            "`Twas brillig, and the slithy toves\n",
            "Some things in life are bad, they can really make you mad\n",
            "  Did gyre and gimble in the wabe:\n",
            "Other things just make you swear and curse\n",
            "All mimsy were the borogoves,\n",
            "When you're chewing on life's gristle, don't grumble give a whistle\n",
            "  And the mome raths outgrabe.\n",
            "This will help things turn out for the best\n",
            "\"Beware the Jabberwock, my son!\n",
            "Always look on the bright side of life\n",
            "  The jaws that bite, the claws that catch!\n",
            "Always look on the right side of life\n",
            "Beware the Jubjub bird, and shun\n",
            "If life seems jolly rotten, there's something you've forgotten\n",
            "  The frumious Bandersnatch!\"\n",
            "And that's to laugh and smile and dance and sing\n",
            "He took his vorpal sword in hand:\n",
            "When you're feeling in the dumps, don't be silly, chumps\n",
            "  Long time the manxome foe he sought --\n",
            "Just purse your lips and whistle, that's the thing\n",
            "So rested he by the Tumtum tree,\n",
            "So, always look on the bright side of death\n",
            "  And stood awhile in thought.\n",
            "Just before you draw your terminal breath\n",
            "And, as in uffish thought he stood,\n",
            "Life's a counterfeit and when you look at it\n",
            "  The Jabberwock, with eyes of flame,\n",
            "Life's a laugh and death's the joke, it's true\n",
            "Came whiffling through the tulgey wood,\n",
            "You see, it's all a show, keep them laughing as you go\n",
            "  And burbled as it came!\n",
            "Just remember the last laugh is on you\n",
            "One, two! One, two! And through and through\n",
            "Always look on the bright side of life\n",
            "  The vorpal blade went snicker-snack!\n",
            "And always look on the right side of life\n",
            "He left it dead, and with its head\n",
            "Always look on the bright side of life\n",
            "  He went galumphing back.\n",
            "And always look on the right side of life\n",
            "\n",
            "\n",
            "[readline()] ->\n",
            "`Twas brillig, and the slithy toves\n",
            "\n",
            "[readlines()] ->\n",
            "['`Twas brillig, and the slithy toves\\n', 'Some things in life are bad, they can really make you mad\\n', '  Did gyre and gimble in the wabe:\\n', 'Other things just make you swear and curse\\n', 'All mimsy were the borogoves,\\n', \"When you're chewing on life's gristle, don't grumble give a whistle\\n\", '  And the mome raths outgrabe.\\n', 'This will help things turn out for the best\\n', '\"Beware the Jabberwock, my son!\\n', 'Always look on the bright side of life\\n', '  The jaws that bite, the claws that catch!\\n', 'Always look on the right side of life\\n', 'Beware the Jubjub bird, and shun\\n', \"If life seems jolly rotten, there's something you've forgotten\\n\", '  The frumious Bandersnatch!\"\\n', \"And that's to laugh and smile and dance and sing\\n\", 'He took his vorpal sword in hand:\\n', \"When you're feeling in the dumps, don't be silly, chumps\\n\", '  Long time the manxome foe he sought --\\n', \"Just purse your lips and whistle, that's the thing\\n\", 'So rested he by the Tumtum tree,\\n', 'So, always look on the bright side of death\\n', '  And stood awhile in thought.\\n', 'Just before you draw your terminal breath\\n', 'And, as in uffish thought he stood,\\n', \"Life's a counterfeit and when you look at it\\n\", '  The Jabberwock, with eyes of flame,\\n', \"Life's a laugh and death's the joke, it's true\\n\", 'Came whiffling through the tulgey wood,\\n', \"You see, it's all a show, keep them laughing as you go\\n\", '  And burbled as it came!\\n', 'Just remember the last laugh is on you\\n', 'One, two! One, two! And through and through\\n', 'Always look on the bright side of life\\n', '  The vorpal blade went snicker-snack!\\n', 'And always look on the right side of life\\n', 'He left it dead, and with its head\\n', 'Always look on the bright side of life\\n', '  He went galumphing back.\\n', 'And always look on the right side of life\\n']\n"
          ]
        }
      ]
    },
    {
      "cell_type": "markdown",
      "source": [
        "\n",
        "\n",
        "\n",
        "# P14.1"
      ],
      "metadata": {
        "id": "pDyYpSjV2zmu"
      }
    },
    {
      "cell_type": "code",
      "source": [
        "with open(\"practice.txt\", \"r\") as data:\n",
        "    list_of_lines = data.readlines()\n",
        "\n",
        "print(\"\".join(list_of_lines))  # looks like original input"
      ],
      "metadata": {
        "colab": {
          "base_uri": "https://localhost:8080/"
        },
        "id": "LPwinLwW22bC",
        "outputId": "8810ffb6-8974-406c-becf-178a57c86eca"
      },
      "execution_count": 21,
      "outputs": [
        {
          "output_type": "stream",
          "name": "stdout",
          "text": [
            "`Twas brillig, and the slithy toves\n",
            "Some things in life are bad, they can really make you mad\n",
            "  Did gyre and gimble in the wabe:\n",
            "Other things just make you swear and curse\n",
            "All mimsy were the borogoves,\n",
            "When you're chewing on life's gristle, don't grumble give a whistle\n",
            "  And the mome raths outgrabe.\n",
            "This will help things turn out for the best\n",
            "\"Beware the Jabberwock, my son!\n",
            "Always look on the bright side of life\n",
            "  The jaws that bite, the claws that catch!\n",
            "Always look on the right side of life\n",
            "Beware the Jubjub bird, and shun\n",
            "If life seems jolly rotten, there's something you've forgotten\n",
            "  The frumious Bandersnatch!\"\n",
            "And that's to laugh and smile and dance and sing\n",
            "He took his vorpal sword in hand:\n",
            "When you're feeling in the dumps, don't be silly, chumps\n",
            "  Long time the manxome foe he sought --\n",
            "Just purse your lips and whistle, that's the thing\n",
            "So rested he by the Tumtum tree,\n",
            "So, always look on the bright side of death\n",
            "  And stood awhile in thought.\n",
            "Just before you draw your terminal breath\n",
            "And, as in uffish thought he stood,\n",
            "Life's a counterfeit and when you look at it\n",
            "  The Jabberwock, with eyes of flame,\n",
            "Life's a laugh and death's the joke, it's true\n",
            "Came whiffling through the tulgey wood,\n",
            "You see, it's all a show, keep them laughing as you go\n",
            "  And burbled as it came!\n",
            "Just remember the last laugh is on you\n",
            "One, two! One, two! And through and through\n",
            "Always look on the bright side of life\n",
            "  The vorpal blade went snicker-snack!\n",
            "And always look on the right side of life\n",
            "He left it dead, and with its head\n",
            "Always look on the bright side of life\n",
            "  He went galumphing back.\n",
            "And always look on the right side of life\n",
            "\n"
          ]
        }
      ]
    },
    {
      "cell_type": "markdown",
      "source": [
        "\n",
        "\n",
        "# P15.1"
      ],
      "metadata": {
        "id": "-2opGh8h2552"
      }
    },
    {
      "cell_type": "code",
      "source": [
        "with open(\"practice.txt\", \"r\") as data:\n",
        "    for line in data:\n",
        "        print(line.rstrip())"
      ],
      "metadata": {
        "colab": {
          "base_uri": "https://localhost:8080/"
        },
        "id": "4D5S4rBR288p",
        "outputId": "99f11182-92d3-49af-d58c-876676fa4a26"
      },
      "execution_count": 22,
      "outputs": [
        {
          "output_type": "stream",
          "name": "stdout",
          "text": [
            "`Twas brillig, and the slithy toves\n",
            "Some things in life are bad, they can really make you mad\n",
            "  Did gyre and gimble in the wabe:\n",
            "Other things just make you swear and curse\n",
            "All mimsy were the borogoves,\n",
            "When you're chewing on life's gristle, don't grumble give a whistle\n",
            "  And the mome raths outgrabe.\n",
            "This will help things turn out for the best\n",
            "\"Beware the Jabberwock, my son!\n",
            "Always look on the bright side of life\n",
            "  The jaws that bite, the claws that catch!\n",
            "Always look on the right side of life\n",
            "Beware the Jubjub bird, and shun\n",
            "If life seems jolly rotten, there's something you've forgotten\n",
            "  The frumious Bandersnatch!\"\n",
            "And that's to laugh and smile and dance and sing\n",
            "He took his vorpal sword in hand:\n",
            "When you're feeling in the dumps, don't be silly, chumps\n",
            "  Long time the manxome foe he sought --\n",
            "Just purse your lips and whistle, that's the thing\n",
            "So rested he by the Tumtum tree,\n",
            "So, always look on the bright side of death\n",
            "  And stood awhile in thought.\n",
            "Just before you draw your terminal breath\n",
            "And, as in uffish thought he stood,\n",
            "Life's a counterfeit and when you look at it\n",
            "  The Jabberwock, with eyes of flame,\n",
            "Life's a laugh and death's the joke, it's true\n",
            "Came whiffling through the tulgey wood,\n",
            "You see, it's all a show, keep them laughing as you go\n",
            "  And burbled as it came!\n",
            "Just remember the last laugh is on you\n",
            "One, two! One, two! And through and through\n",
            "Always look on the bright side of life\n",
            "  The vorpal blade went snicker-snack!\n",
            "And always look on the right side of life\n",
            "He left it dead, and with its head\n",
            "Always look on the bright side of life\n",
            "  He went galumphing back.\n",
            "And always look on the right side of life\n"
          ]
        }
      ]
    },
    {
      "cell_type": "markdown",
      "source": [
        "# P15.2 – Rosalind #4"
      ],
      "metadata": {
        "id": "xVWlyuwd3Oj_"
      }
    },
    {
      "cell_type": "code",
      "source": [
        "with open(\"practice.txt\", \"r\") as data:\n",
        "    for i, line in enumerate(data, start=1):\n",
        "        if i % 2 == 0:\n",
        "            print(line.rstrip())"
      ],
      "metadata": {
        "colab": {
          "base_uri": "https://localhost:8080/"
        },
        "id": "YGd8ooTu3Rh5",
        "outputId": "a557c983-e72d-4fbf-8186-d0e4ceb61b7a"
      },
      "execution_count": 24,
      "outputs": [
        {
          "output_type": "stream",
          "name": "stdout",
          "text": [
            "Some things in life are bad, they can really make you mad\n",
            "Other things just make you swear and curse\n",
            "When you're chewing on life's gristle, don't grumble give a whistle\n",
            "This will help things turn out for the best\n",
            "Always look on the bright side of life\n",
            "Always look on the right side of life\n",
            "If life seems jolly rotten, there's something you've forgotten\n",
            "And that's to laugh and smile and dance and sing\n",
            "When you're feeling in the dumps, don't be silly, chumps\n",
            "Just purse your lips and whistle, that's the thing\n",
            "So, always look on the bright side of death\n",
            "Just before you draw your terminal breath\n",
            "Life's a counterfeit and when you look at it\n",
            "Life's a laugh and death's the joke, it's true\n",
            "You see, it's all a show, keep them laughing as you go\n",
            "Just remember the last laugh is on you\n",
            "Always look on the bright side of life\n",
            "And always look on the right side of life\n",
            "Always look on the bright side of life\n",
            "And always look on the right side of life\n"
          ]
        }
      ]
    },
    {
      "cell_type": "markdown",
      "source": [
        "\n",
        "\n",
        "# P16.1"
      ],
      "metadata": {
        "id": "0Ckurupo38Zt"
      }
    },
    {
      "cell_type": "code",
      "source": [
        "from google.colab import files\n",
        "uploaded = files.upload()  # pick your practice.txt\n",
        "\n",
        "# practice_5.txt: one or more lines of text\n",
        "with open(\"practice_5.txt\", \"r\") as f:\n",
        "    for line in f:\n",
        "        for word in line.split():\n",
        "            print(word)"
      ],
      "metadata": {
        "id": "YL3zQ0Bb30hN",
        "colab": {
          "base_uri": "https://localhost:8080/",
          "height": 1000
        },
        "outputId": "5f65bef7-02a4-4f1c-a106-a1a0de9fd6af"
      },
      "execution_count": 25,
      "outputs": [
        {
          "output_type": "display_data",
          "data": {
            "text/plain": [
              "<IPython.core.display.HTML object>"
            ],
            "text/html": [
              "\n",
              "     <input type=\"file\" id=\"files-6282862e-a84c-4fa5-b93e-1e6655ce95e3\" name=\"files[]\" multiple disabled\n",
              "        style=\"border:none\" />\n",
              "     <output id=\"result-6282862e-a84c-4fa5-b93e-1e6655ce95e3\">\n",
              "      Upload widget is only available when the cell has been executed in the\n",
              "      current browser session. Please rerun this cell to enable.\n",
              "      </output>\n",
              "      <script>// Copyright 2017 Google LLC\n",
              "//\n",
              "// Licensed under the Apache License, Version 2.0 (the \"License\");\n",
              "// you may not use this file except in compliance with the License.\n",
              "// You may obtain a copy of the License at\n",
              "//\n",
              "//      http://www.apache.org/licenses/LICENSE-2.0\n",
              "//\n",
              "// Unless required by applicable law or agreed to in writing, software\n",
              "// distributed under the License is distributed on an \"AS IS\" BASIS,\n",
              "// WITHOUT WARRANTIES OR CONDITIONS OF ANY KIND, either express or implied.\n",
              "// See the License for the specific language governing permissions and\n",
              "// limitations under the License.\n",
              "\n",
              "/**\n",
              " * @fileoverview Helpers for google.colab Python module.\n",
              " */\n",
              "(function(scope) {\n",
              "function span(text, styleAttributes = {}) {\n",
              "  const element = document.createElement('span');\n",
              "  element.textContent = text;\n",
              "  for (const key of Object.keys(styleAttributes)) {\n",
              "    element.style[key] = styleAttributes[key];\n",
              "  }\n",
              "  return element;\n",
              "}\n",
              "\n",
              "// Max number of bytes which will be uploaded at a time.\n",
              "const MAX_PAYLOAD_SIZE = 100 * 1024;\n",
              "\n",
              "function _uploadFiles(inputId, outputId) {\n",
              "  const steps = uploadFilesStep(inputId, outputId);\n",
              "  const outputElement = document.getElementById(outputId);\n",
              "  // Cache steps on the outputElement to make it available for the next call\n",
              "  // to uploadFilesContinue from Python.\n",
              "  outputElement.steps = steps;\n",
              "\n",
              "  return _uploadFilesContinue(outputId);\n",
              "}\n",
              "\n",
              "// This is roughly an async generator (not supported in the browser yet),\n",
              "// where there are multiple asynchronous steps and the Python side is going\n",
              "// to poll for completion of each step.\n",
              "// This uses a Promise to block the python side on completion of each step,\n",
              "// then passes the result of the previous step as the input to the next step.\n",
              "function _uploadFilesContinue(outputId) {\n",
              "  const outputElement = document.getElementById(outputId);\n",
              "  const steps = outputElement.steps;\n",
              "\n",
              "  const next = steps.next(outputElement.lastPromiseValue);\n",
              "  return Promise.resolve(next.value.promise).then((value) => {\n",
              "    // Cache the last promise value to make it available to the next\n",
              "    // step of the generator.\n",
              "    outputElement.lastPromiseValue = value;\n",
              "    return next.value.response;\n",
              "  });\n",
              "}\n",
              "\n",
              "/**\n",
              " * Generator function which is called between each async step of the upload\n",
              " * process.\n",
              " * @param {string} inputId Element ID of the input file picker element.\n",
              " * @param {string} outputId Element ID of the output display.\n",
              " * @return {!Iterable<!Object>} Iterable of next steps.\n",
              " */\n",
              "function* uploadFilesStep(inputId, outputId) {\n",
              "  const inputElement = document.getElementById(inputId);\n",
              "  inputElement.disabled = false;\n",
              "\n",
              "  const outputElement = document.getElementById(outputId);\n",
              "  outputElement.innerHTML = '';\n",
              "\n",
              "  const pickedPromise = new Promise((resolve) => {\n",
              "    inputElement.addEventListener('change', (e) => {\n",
              "      resolve(e.target.files);\n",
              "    });\n",
              "  });\n",
              "\n",
              "  const cancel = document.createElement('button');\n",
              "  inputElement.parentElement.appendChild(cancel);\n",
              "  cancel.textContent = 'Cancel upload';\n",
              "  const cancelPromise = new Promise((resolve) => {\n",
              "    cancel.onclick = () => {\n",
              "      resolve(null);\n",
              "    };\n",
              "  });\n",
              "\n",
              "  // Wait for the user to pick the files.\n",
              "  const files = yield {\n",
              "    promise: Promise.race([pickedPromise, cancelPromise]),\n",
              "    response: {\n",
              "      action: 'starting',\n",
              "    }\n",
              "  };\n",
              "\n",
              "  cancel.remove();\n",
              "\n",
              "  // Disable the input element since further picks are not allowed.\n",
              "  inputElement.disabled = true;\n",
              "\n",
              "  if (!files) {\n",
              "    return {\n",
              "      response: {\n",
              "        action: 'complete',\n",
              "      }\n",
              "    };\n",
              "  }\n",
              "\n",
              "  for (const file of files) {\n",
              "    const li = document.createElement('li');\n",
              "    li.append(span(file.name, {fontWeight: 'bold'}));\n",
              "    li.append(span(\n",
              "        `(${file.type || 'n/a'}) - ${file.size} bytes, ` +\n",
              "        `last modified: ${\n",
              "            file.lastModifiedDate ? file.lastModifiedDate.toLocaleDateString() :\n",
              "                                    'n/a'} - `));\n",
              "    const percent = span('0% done');\n",
              "    li.appendChild(percent);\n",
              "\n",
              "    outputElement.appendChild(li);\n",
              "\n",
              "    const fileDataPromise = new Promise((resolve) => {\n",
              "      const reader = new FileReader();\n",
              "      reader.onload = (e) => {\n",
              "        resolve(e.target.result);\n",
              "      };\n",
              "      reader.readAsArrayBuffer(file);\n",
              "    });\n",
              "    // Wait for the data to be ready.\n",
              "    let fileData = yield {\n",
              "      promise: fileDataPromise,\n",
              "      response: {\n",
              "        action: 'continue',\n",
              "      }\n",
              "    };\n",
              "\n",
              "    // Use a chunked sending to avoid message size limits. See b/62115660.\n",
              "    let position = 0;\n",
              "    do {\n",
              "      const length = Math.min(fileData.byteLength - position, MAX_PAYLOAD_SIZE);\n",
              "      const chunk = new Uint8Array(fileData, position, length);\n",
              "      position += length;\n",
              "\n",
              "      const base64 = btoa(String.fromCharCode.apply(null, chunk));\n",
              "      yield {\n",
              "        response: {\n",
              "          action: 'append',\n",
              "          file: file.name,\n",
              "          data: base64,\n",
              "        },\n",
              "      };\n",
              "\n",
              "      let percentDone = fileData.byteLength === 0 ?\n",
              "          100 :\n",
              "          Math.round((position / fileData.byteLength) * 100);\n",
              "      percent.textContent = `${percentDone}% done`;\n",
              "\n",
              "    } while (position < fileData.byteLength);\n",
              "  }\n",
              "\n",
              "  // All done.\n",
              "  yield {\n",
              "    response: {\n",
              "      action: 'complete',\n",
              "    }\n",
              "  };\n",
              "}\n",
              "\n",
              "scope.google = scope.google || {};\n",
              "scope.google.colab = scope.google.colab || {};\n",
              "scope.google.colab._files = {\n",
              "  _uploadFiles,\n",
              "  _uploadFilesContinue,\n",
              "};\n",
              "})(self);\n",
              "</script> "
            ]
          },
          "metadata": {}
        },
        {
          "output_type": "stream",
          "name": "stdout",
          "text": [
            "Saving practice_5.txt to practice_5.txt\n",
            "When\n",
            "I\n",
            "find\n",
            "myself\n",
            "in\n",
            "times\n",
            "of\n",
            "trouble\n",
            "Mother\n",
            "Mary\n",
            "comes\n",
            "to\n",
            "me\n",
            "Speaking\n",
            "words\n",
            "of\n",
            "wisdom\n",
            "let\n",
            "it\n",
            "be\n",
            "And\n",
            "in\n",
            "my\n",
            "hour\n",
            "of\n",
            "darkness\n",
            "she\n",
            "is\n",
            "standing\n",
            "right\n",
            "in\n",
            "front\n",
            "of\n",
            "me\n",
            "Speaking\n",
            "words\n",
            "of\n",
            "wisdom\n",
            "let\n",
            "it\n",
            "be\n",
            "Let\n",
            "it\n",
            "be\n",
            "let\n",
            "it\n",
            "be\n",
            "let\n",
            "it\n",
            "be\n",
            "let\n",
            "it\n",
            "be\n",
            "Whisper\n",
            "words\n",
            "of\n",
            "wisdom\n",
            "let\n",
            "it\n",
            "be\n",
            "And\n",
            "when\n",
            "the\n",
            "broken\n",
            "hearted\n",
            "people\n",
            "living\n",
            "in\n",
            "the\n",
            "world\n",
            "agree\n",
            "There\n",
            "will\n",
            "be\n",
            "an\n",
            "answer\n",
            "let\n",
            "it\n",
            "be\n",
            "For\n",
            "though\n",
            "they\n",
            "may\n",
            "be\n",
            "parted\n",
            "there\n",
            "is\n",
            "still\n",
            "a\n",
            "chance\n",
            "that\n",
            "they\n",
            "will\n",
            "see\n",
            "There\n",
            "will\n",
            "be\n",
            "an\n",
            "answer\n",
            "let\n",
            "it\n",
            "be\n",
            "Let\n",
            "it\n",
            "be\n",
            "let\n",
            "it\n",
            "be\n",
            "let\n",
            "it\n",
            "be\n",
            "let\n",
            "it\n",
            "be\n",
            "There\n",
            "will\n",
            "be\n",
            "an\n",
            "answer\n",
            "let\n",
            "it\n",
            "be\n",
            "Let\n",
            "it\n",
            "be\n",
            "let\n",
            "it\n",
            "be\n",
            "let\n",
            "it\n",
            "be\n",
            "let\n",
            "it\n",
            "be\n",
            "Whisper\n",
            "words\n",
            "of\n",
            "wisdom\n",
            "let\n",
            "it\n",
            "be\n",
            "Let\n",
            "it\n",
            "be\n",
            "let\n",
            "it\n",
            "be\n",
            "let\n",
            "it\n",
            "be\n",
            "let\n",
            "it\n",
            "be\n",
            "Whisper\n",
            "words\n",
            "of\n",
            "wisdom\n",
            "let\n",
            "it\n",
            "be\n",
            "And\n",
            "when\n",
            "the\n",
            "night\n",
            "is\n",
            "cloudy\n",
            "there\n",
            "is\n",
            "still\n",
            "a\n",
            "light\n",
            "that\n",
            "shines\n",
            "on\n",
            "me\n",
            "Shine\n",
            "until\n",
            "tomorrow\n",
            "let\n",
            "it\n",
            "be\n",
            "I\n",
            "wake\n",
            "up\n",
            "to\n",
            "the\n",
            "sound\n",
            "of\n",
            "music\n",
            "Mother\n",
            "Mary\n",
            "comes\n",
            "to\n",
            "me\n",
            "Speaking\n",
            "words\n",
            "of\n",
            "wisdom\n",
            "let\n",
            "it\n",
            "be\n",
            "Let\n",
            "it\n",
            "be\n",
            "let\n",
            "it\n",
            "be\n",
            "let\n",
            "it\n",
            "be\n",
            "yeah\n",
            "let\n",
            "it\n",
            "be\n",
            "There\n",
            "will\n",
            "be\n",
            "an\n",
            "answer\n",
            "let\n",
            "it\n",
            "be\n",
            "Let\n",
            "it\n",
            "be\n",
            "let\n",
            "it\n",
            "be\n",
            "let\n",
            "it\n",
            "be\n",
            "yeah\n",
            "let\n",
            "it\n",
            "be\n",
            "Whisper\n",
            "words\n",
            "of\n",
            "wisdom\n",
            "let\n",
            "it\n",
            "be\n"
          ]
        }
      ]
    },
    {
      "cell_type": "markdown",
      "source": [
        "\n",
        "\n",
        "# P17.1"
      ],
      "metadata": {
        "id": "FR3-_8xz4J9Y"
      }
    },
    {
      "cell_type": "code",
      "source": [
        "sequences = {\n",
        "    'H.sapiens': 'TAGGCGTT',\n",
        "    'M.fascicularis': 'CGGAGT',\n",
        "    'N.leucogenys': 'GATCCA'\n",
        "}\n",
        "print(sequences)\n",
        "print(sequences[\"H.sapiens\"])"
      ],
      "metadata": {
        "id": "xEEt8IZW4Ngm",
        "colab": {
          "base_uri": "https://localhost:8080/"
        },
        "outputId": "ca5d32f3-ae83-4838-9d03-587a81322c62"
      },
      "execution_count": 26,
      "outputs": [
        {
          "output_type": "stream",
          "name": "stdout",
          "text": [
            "{'H.sapiens': 'TAGGCGTT', 'M.fascicularis': 'CGGAGT', 'N.leucogenys': 'GATCCA'}\n",
            "TAGGCGTT\n"
          ]
        }
      ]
    },
    {
      "cell_type": "markdown",
      "source": [
        "\n",
        "\n",
        "# P18.1"
      ],
      "metadata": {
        "id": "UiTOEfKv6vwb"
      }
    },
    {
      "cell_type": "code",
      "source": [
        "sequences.update({\"H.neanderthalensis\": \"ATGAAA\"})  # example add\n",
        "with open(\"hominids.fasta\", \"w\") as out:\n",
        "    for key, val in sequences.items():\n",
        "        out.write(f\">{key}\\n{val}\\n\")\n",
        "print(\"Wrote hominids.fasta\")"
      ],
      "metadata": {
        "colab": {
          "base_uri": "https://localhost:8080/"
        },
        "id": "olyXAtwU6mIh",
        "outputId": "ef8caa1b-5d80-4d83-c5a4-89cf0c53442d"
      },
      "execution_count": 27,
      "outputs": [
        {
          "output_type": "stream",
          "name": "stdout",
          "text": [
            "Wrote hominids.fasta\n"
          ]
        }
      ]
    },
    {
      "cell_type": "markdown",
      "source": [
        "# P18.2 – Rosalind #5"
      ],
      "metadata": {
        "id": "v9DXHID-685R"
      }
    },
    {
      "cell_type": "code",
      "source": [
        "from collections import Counter\n",
        "\n",
        "# input.txt contains a single line (or multiple) of words\n",
        "with open(\"practice_5.txt\", \"r\") as f:\n",
        "    words = f.read().split()\n",
        "\n",
        "counts = Counter(words)\n",
        "for w, c in counts.items():   # order arbitrary is fine; to sort: for w in sorted(counts)\n",
        "    print(w, c)\n"
      ],
      "metadata": {
        "colab": {
          "base_uri": "https://localhost:8080/"
        },
        "id": "5q5bQi7a64aE",
        "outputId": "43464f20-658a-4e85-f38c-d8c0d529d50d"
      },
      "execution_count": 28,
      "outputs": [
        {
          "output_type": "stream",
          "name": "stdout",
          "text": [
            "When 1\n",
            "I 2\n",
            "find 1\n",
            "myself 1\n",
            "in 4\n",
            "times 1\n",
            "of 11\n",
            "trouble 1\n",
            "Mother 2\n",
            "Mary 2\n",
            "comes 2\n",
            "to 3\n",
            "me 4\n",
            "Speaking 3\n",
            "words 7\n",
            "wisdom 7\n",
            "let 30\n",
            "it 36\n",
            "be 41\n",
            "And 3\n",
            "my 1\n",
            "hour 1\n",
            "darkness 1\n",
            "she 1\n",
            "is 4\n",
            "standing 1\n",
            "right 1\n",
            "front 1\n",
            "Let 6\n",
            "Whisper 4\n",
            "when 2\n",
            "the 4\n",
            "broken 1\n",
            "hearted 1\n",
            "people 1\n",
            "living 1\n",
            "world 1\n",
            "agree 1\n",
            "There 4\n",
            "will 5\n",
            "an 4\n",
            "answer 4\n",
            "For 1\n",
            "though 1\n",
            "they 2\n",
            "may 1\n",
            "parted 1\n",
            "there 2\n",
            "still 2\n",
            "a 2\n",
            "chance 1\n",
            "that 2\n",
            "see 1\n",
            "night 1\n",
            "cloudy 1\n",
            "light 1\n",
            "shines 1\n",
            "on 1\n",
            "Shine 1\n",
            "until 1\n",
            "tomorrow 1\n",
            "wake 1\n",
            "up 1\n",
            "sound 1\n",
            "music 1\n",
            "yeah 2\n"
          ]
        }
      ]
    },
    {
      "cell_type": "markdown",
      "source": [
        "\n",
        "# P19.1 – Rosalind #6"
      ],
      "metadata": {
        "id": "3JeamI0-7q7g"
      }
    },
    {
      "cell_type": "code",
      "source": [
        "from google.colab import files\n",
        "uploaded = files.upload()  # pick your practice.txt # dna.txt contains one DNA string\n",
        "\n",
        "with open(\"rosalind_dna.txt\", \"r\") as f:\n",
        "    s = f.read().strip()\n",
        "\n",
        "print(s.count(\"A\"), s.count(\"C\"), s.count(\"G\"), s.count(\"T\"))"
      ],
      "metadata": {
        "colab": {
          "base_uri": "https://localhost:8080/",
          "height": 90
        },
        "id": "sFyTaKx27HAc",
        "outputId": "5aec5110-9f2d-43d1-f12e-0cceeed00457"
      },
      "execution_count": 32,
      "outputs": [
        {
          "output_type": "display_data",
          "data": {
            "text/plain": [
              "<IPython.core.display.HTML object>"
            ],
            "text/html": [
              "\n",
              "     <input type=\"file\" id=\"files-6b24683a-deb4-46fb-896d-484b841988e1\" name=\"files[]\" multiple disabled\n",
              "        style=\"border:none\" />\n",
              "     <output id=\"result-6b24683a-deb4-46fb-896d-484b841988e1\">\n",
              "      Upload widget is only available when the cell has been executed in the\n",
              "      current browser session. Please rerun this cell to enable.\n",
              "      </output>\n",
              "      <script>// Copyright 2017 Google LLC\n",
              "//\n",
              "// Licensed under the Apache License, Version 2.0 (the \"License\");\n",
              "// you may not use this file except in compliance with the License.\n",
              "// You may obtain a copy of the License at\n",
              "//\n",
              "//      http://www.apache.org/licenses/LICENSE-2.0\n",
              "//\n",
              "// Unless required by applicable law or agreed to in writing, software\n",
              "// distributed under the License is distributed on an \"AS IS\" BASIS,\n",
              "// WITHOUT WARRANTIES OR CONDITIONS OF ANY KIND, either express or implied.\n",
              "// See the License for the specific language governing permissions and\n",
              "// limitations under the License.\n",
              "\n",
              "/**\n",
              " * @fileoverview Helpers for google.colab Python module.\n",
              " */\n",
              "(function(scope) {\n",
              "function span(text, styleAttributes = {}) {\n",
              "  const element = document.createElement('span');\n",
              "  element.textContent = text;\n",
              "  for (const key of Object.keys(styleAttributes)) {\n",
              "    element.style[key] = styleAttributes[key];\n",
              "  }\n",
              "  return element;\n",
              "}\n",
              "\n",
              "// Max number of bytes which will be uploaded at a time.\n",
              "const MAX_PAYLOAD_SIZE = 100 * 1024;\n",
              "\n",
              "function _uploadFiles(inputId, outputId) {\n",
              "  const steps = uploadFilesStep(inputId, outputId);\n",
              "  const outputElement = document.getElementById(outputId);\n",
              "  // Cache steps on the outputElement to make it available for the next call\n",
              "  // to uploadFilesContinue from Python.\n",
              "  outputElement.steps = steps;\n",
              "\n",
              "  return _uploadFilesContinue(outputId);\n",
              "}\n",
              "\n",
              "// This is roughly an async generator (not supported in the browser yet),\n",
              "// where there are multiple asynchronous steps and the Python side is going\n",
              "// to poll for completion of each step.\n",
              "// This uses a Promise to block the python side on completion of each step,\n",
              "// then passes the result of the previous step as the input to the next step.\n",
              "function _uploadFilesContinue(outputId) {\n",
              "  const outputElement = document.getElementById(outputId);\n",
              "  const steps = outputElement.steps;\n",
              "\n",
              "  const next = steps.next(outputElement.lastPromiseValue);\n",
              "  return Promise.resolve(next.value.promise).then((value) => {\n",
              "    // Cache the last promise value to make it available to the next\n",
              "    // step of the generator.\n",
              "    outputElement.lastPromiseValue = value;\n",
              "    return next.value.response;\n",
              "  });\n",
              "}\n",
              "\n",
              "/**\n",
              " * Generator function which is called between each async step of the upload\n",
              " * process.\n",
              " * @param {string} inputId Element ID of the input file picker element.\n",
              " * @param {string} outputId Element ID of the output display.\n",
              " * @return {!Iterable<!Object>} Iterable of next steps.\n",
              " */\n",
              "function* uploadFilesStep(inputId, outputId) {\n",
              "  const inputElement = document.getElementById(inputId);\n",
              "  inputElement.disabled = false;\n",
              "\n",
              "  const outputElement = document.getElementById(outputId);\n",
              "  outputElement.innerHTML = '';\n",
              "\n",
              "  const pickedPromise = new Promise((resolve) => {\n",
              "    inputElement.addEventListener('change', (e) => {\n",
              "      resolve(e.target.files);\n",
              "    });\n",
              "  });\n",
              "\n",
              "  const cancel = document.createElement('button');\n",
              "  inputElement.parentElement.appendChild(cancel);\n",
              "  cancel.textContent = 'Cancel upload';\n",
              "  const cancelPromise = new Promise((resolve) => {\n",
              "    cancel.onclick = () => {\n",
              "      resolve(null);\n",
              "    };\n",
              "  });\n",
              "\n",
              "  // Wait for the user to pick the files.\n",
              "  const files = yield {\n",
              "    promise: Promise.race([pickedPromise, cancelPromise]),\n",
              "    response: {\n",
              "      action: 'starting',\n",
              "    }\n",
              "  };\n",
              "\n",
              "  cancel.remove();\n",
              "\n",
              "  // Disable the input element since further picks are not allowed.\n",
              "  inputElement.disabled = true;\n",
              "\n",
              "  if (!files) {\n",
              "    return {\n",
              "      response: {\n",
              "        action: 'complete',\n",
              "      }\n",
              "    };\n",
              "  }\n",
              "\n",
              "  for (const file of files) {\n",
              "    const li = document.createElement('li');\n",
              "    li.append(span(file.name, {fontWeight: 'bold'}));\n",
              "    li.append(span(\n",
              "        `(${file.type || 'n/a'}) - ${file.size} bytes, ` +\n",
              "        `last modified: ${\n",
              "            file.lastModifiedDate ? file.lastModifiedDate.toLocaleDateString() :\n",
              "                                    'n/a'} - `));\n",
              "    const percent = span('0% done');\n",
              "    li.appendChild(percent);\n",
              "\n",
              "    outputElement.appendChild(li);\n",
              "\n",
              "    const fileDataPromise = new Promise((resolve) => {\n",
              "      const reader = new FileReader();\n",
              "      reader.onload = (e) => {\n",
              "        resolve(e.target.result);\n",
              "      };\n",
              "      reader.readAsArrayBuffer(file);\n",
              "    });\n",
              "    // Wait for the data to be ready.\n",
              "    let fileData = yield {\n",
              "      promise: fileDataPromise,\n",
              "      response: {\n",
              "        action: 'continue',\n",
              "      }\n",
              "    };\n",
              "\n",
              "    // Use a chunked sending to avoid message size limits. See b/62115660.\n",
              "    let position = 0;\n",
              "    do {\n",
              "      const length = Math.min(fileData.byteLength - position, MAX_PAYLOAD_SIZE);\n",
              "      const chunk = new Uint8Array(fileData, position, length);\n",
              "      position += length;\n",
              "\n",
              "      const base64 = btoa(String.fromCharCode.apply(null, chunk));\n",
              "      yield {\n",
              "        response: {\n",
              "          action: 'append',\n",
              "          file: file.name,\n",
              "          data: base64,\n",
              "        },\n",
              "      };\n",
              "\n",
              "      let percentDone = fileData.byteLength === 0 ?\n",
              "          100 :\n",
              "          Math.round((position / fileData.byteLength) * 100);\n",
              "      percent.textContent = `${percentDone}% done`;\n",
              "\n",
              "    } while (position < fileData.byteLength);\n",
              "  }\n",
              "\n",
              "  // All done.\n",
              "  yield {\n",
              "    response: {\n",
              "      action: 'complete',\n",
              "    }\n",
              "  };\n",
              "}\n",
              "\n",
              "scope.google = scope.google || {};\n",
              "scope.google.colab = scope.google.colab || {};\n",
              "scope.google.colab._files = {\n",
              "  _uploadFiles,\n",
              "  _uploadFilesContinue,\n",
              "};\n",
              "})(self);\n",
              "</script> "
            ]
          },
          "metadata": {}
        },
        {
          "output_type": "stream",
          "name": "stdout",
          "text": [
            "Saving rosalind_dna.txt to rosalind_dna (2).txt\n",
            "222 179 205 216\n"
          ]
        }
      ]
    },
    {
      "cell_type": "markdown",
      "source": [
        "# P19.2"
      ],
      "metadata": {
        "id": "zGgZUE_P8OPt"
      }
    },
    {
      "cell_type": "code",
      "source": [
        "with open(\"rosalind_dna.txt\", \"r\") as f:\n",
        "    text = f.read()\n",
        "words = text.split()\n",
        "\n",
        "counts = {}\n",
        "for w in words:\n",
        "    if w not in counts:\n",
        "        counts[w] = words.count(w)   # only count when first seen\n",
        "for w, c in counts.items():\n",
        "    print(w, c)"
      ],
      "metadata": {
        "colab": {
          "base_uri": "https://localhost:8080/"
        },
        "id": "EvaWiNI68NTV",
        "outputId": "0c304574-592a-4532-8d63-d740445e68d4"
      },
      "execution_count": 33,
      "outputs": [
        {
          "output_type": "stream",
          "name": "stdout",
          "text": [
            "TATCCGGAAGGGTGTGTAGTTATCCGAAATCATGTATACAGACCCGGGACCTCTCATTACTGACGACGGGGGAGTCCGTCTTCAGAGCTGTTTTGACAGAGTGGAGCGCCTGTAGTAGTCCGCTCACAAATGGGCGTTAAACGGTGATCGTTTCTTTGAGTACCGCGCCCCTTCTGTTGATACACCCCACGCACCAACGTAGGTCGTTTCCAGAATAATGTGTGTAGACGGTCGAATGCTCCTCCTGATGCACTATTGATCGAAACTACTATAGCTTTCATAACTATCCCAGTGATCCTCAATGTTGGGTAAGCGAATTAACCCTTAACTCTAATACAAACAATCGACGTATTAGTGTGTACCCCAAGTTTAACCGCGTCGTAGCTAAGGGGCAAATCCGAACAACTCCTTCTAGTGCAAGATGTCGAAATAGCCCTAGCAGTCGACGTCACAATAAGTATCACACAATGATCCATATGAGAGAGTTGAATATGGATGAAATCCGAAGCTCGGCAGTTGTTAACCAAGGAAGGGGAGGTCCATACGTTAAAGCAGCTAGTCGGCGTAATTCAGTACGTTTGCGACGCCGGATCAACTTGTGTATGCACTTGTGAGACTAGCTTATGTGTATCTTACAGTTTCATAAACGGGGATTTTACGTCTGCGTGTAGAGGGATTGCTCTACGTACGGTGGAGAATAGCCAGTTGAAGGCCACCCCGTGCAAACGGATACGCTGAATTAGGCGGACGCACTAAGCTGACTTTCGATTTGTACGGGATACTATAGTAGGAAAGATACTGTTATGAGGTACTGGTCTTGGA 1\n"
          ]
        }
      ]
    },
    {
      "cell_type": "markdown",
      "source": [
        "\n",
        "\n",
        "# P20.1"
      ],
      "metadata": {
        "id": "w1iocFzv800s"
      }
    },
    {
      "cell_type": "code",
      "source": [
        "!pip install biopython\n",
        "import Bio\n",
        "from Bio.Seq import Seq\n",
        "print(\"Biopython OK. Version:\", Bio.__version__)\n",
        "print(\"Seq test:\", Seq(\"TGATTC\").complement())"
      ],
      "metadata": {
        "colab": {
          "base_uri": "https://localhost:8080/"
        },
        "id": "3oXwsnyr8vtM",
        "outputId": "404c8818-cf04-4f58-e164-c40d2d11a370"
      },
      "execution_count": 34,
      "outputs": [
        {
          "output_type": "stream",
          "name": "stdout",
          "text": [
            "Requirement already satisfied: biopython in /usr/local/lib/python3.12/dist-packages (1.85)\n",
            "Requirement already satisfied: numpy in /usr/local/lib/python3.12/dist-packages (from biopython) (2.0.2)\n",
            "Biopython OK. Version: 1.85\n",
            "Seq test: ACTAAG\n"
          ]
        }
      ]
    },
    {
      "cell_type": "markdown",
      "source": [
        "\n",
        "\n",
        "# P21.1 – Rosalind #7"
      ],
      "metadata": {
        "id": "HaT1ND599NdS"
      }
    },
    {
      "cell_type": "code",
      "source": [
        "from Bio.Seq import Seq\n",
        "from google.colab import files\n",
        "uploaded = files.upload()\n",
        "with open(\"rosalind_rna.txt\", \"r\") as f:\n",
        "    dna= Seq(f.read().strip())\n",
        "\n",
        "rna = dna.transcribe()  # T->U\n",
        "print(rna)"
      ],
      "metadata": {
        "colab": {
          "base_uri": "https://localhost:8080/",
          "height": 110
        },
        "id": "hhcMPMEy83gx",
        "outputId": "3bb50e05-3039-4f76-b6f8-8099c3d43ef0"
      },
      "execution_count": 36,
      "outputs": [
        {
          "output_type": "display_data",
          "data": {
            "text/plain": [
              "<IPython.core.display.HTML object>"
            ],
            "text/html": [
              "\n",
              "     <input type=\"file\" id=\"files-da508c06-7901-4fab-933c-8e8defcb4feb\" name=\"files[]\" multiple disabled\n",
              "        style=\"border:none\" />\n",
              "     <output id=\"result-da508c06-7901-4fab-933c-8e8defcb4feb\">\n",
              "      Upload widget is only available when the cell has been executed in the\n",
              "      current browser session. Please rerun this cell to enable.\n",
              "      </output>\n",
              "      <script>// Copyright 2017 Google LLC\n",
              "//\n",
              "// Licensed under the Apache License, Version 2.0 (the \"License\");\n",
              "// you may not use this file except in compliance with the License.\n",
              "// You may obtain a copy of the License at\n",
              "//\n",
              "//      http://www.apache.org/licenses/LICENSE-2.0\n",
              "//\n",
              "// Unless required by applicable law or agreed to in writing, software\n",
              "// distributed under the License is distributed on an \"AS IS\" BASIS,\n",
              "// WITHOUT WARRANTIES OR CONDITIONS OF ANY KIND, either express or implied.\n",
              "// See the License for the specific language governing permissions and\n",
              "// limitations under the License.\n",
              "\n",
              "/**\n",
              " * @fileoverview Helpers for google.colab Python module.\n",
              " */\n",
              "(function(scope) {\n",
              "function span(text, styleAttributes = {}) {\n",
              "  const element = document.createElement('span');\n",
              "  element.textContent = text;\n",
              "  for (const key of Object.keys(styleAttributes)) {\n",
              "    element.style[key] = styleAttributes[key];\n",
              "  }\n",
              "  return element;\n",
              "}\n",
              "\n",
              "// Max number of bytes which will be uploaded at a time.\n",
              "const MAX_PAYLOAD_SIZE = 100 * 1024;\n",
              "\n",
              "function _uploadFiles(inputId, outputId) {\n",
              "  const steps = uploadFilesStep(inputId, outputId);\n",
              "  const outputElement = document.getElementById(outputId);\n",
              "  // Cache steps on the outputElement to make it available for the next call\n",
              "  // to uploadFilesContinue from Python.\n",
              "  outputElement.steps = steps;\n",
              "\n",
              "  return _uploadFilesContinue(outputId);\n",
              "}\n",
              "\n",
              "// This is roughly an async generator (not supported in the browser yet),\n",
              "// where there are multiple asynchronous steps and the Python side is going\n",
              "// to poll for completion of each step.\n",
              "// This uses a Promise to block the python side on completion of each step,\n",
              "// then passes the result of the previous step as the input to the next step.\n",
              "function _uploadFilesContinue(outputId) {\n",
              "  const outputElement = document.getElementById(outputId);\n",
              "  const steps = outputElement.steps;\n",
              "\n",
              "  const next = steps.next(outputElement.lastPromiseValue);\n",
              "  return Promise.resolve(next.value.promise).then((value) => {\n",
              "    // Cache the last promise value to make it available to the next\n",
              "    // step of the generator.\n",
              "    outputElement.lastPromiseValue = value;\n",
              "    return next.value.response;\n",
              "  });\n",
              "}\n",
              "\n",
              "/**\n",
              " * Generator function which is called between each async step of the upload\n",
              " * process.\n",
              " * @param {string} inputId Element ID of the input file picker element.\n",
              " * @param {string} outputId Element ID of the output display.\n",
              " * @return {!Iterable<!Object>} Iterable of next steps.\n",
              " */\n",
              "function* uploadFilesStep(inputId, outputId) {\n",
              "  const inputElement = document.getElementById(inputId);\n",
              "  inputElement.disabled = false;\n",
              "\n",
              "  const outputElement = document.getElementById(outputId);\n",
              "  outputElement.innerHTML = '';\n",
              "\n",
              "  const pickedPromise = new Promise((resolve) => {\n",
              "    inputElement.addEventListener('change', (e) => {\n",
              "      resolve(e.target.files);\n",
              "    });\n",
              "  });\n",
              "\n",
              "  const cancel = document.createElement('button');\n",
              "  inputElement.parentElement.appendChild(cancel);\n",
              "  cancel.textContent = 'Cancel upload';\n",
              "  const cancelPromise = new Promise((resolve) => {\n",
              "    cancel.onclick = () => {\n",
              "      resolve(null);\n",
              "    };\n",
              "  });\n",
              "\n",
              "  // Wait for the user to pick the files.\n",
              "  const files = yield {\n",
              "    promise: Promise.race([pickedPromise, cancelPromise]),\n",
              "    response: {\n",
              "      action: 'starting',\n",
              "    }\n",
              "  };\n",
              "\n",
              "  cancel.remove();\n",
              "\n",
              "  // Disable the input element since further picks are not allowed.\n",
              "  inputElement.disabled = true;\n",
              "\n",
              "  if (!files) {\n",
              "    return {\n",
              "      response: {\n",
              "        action: 'complete',\n",
              "      }\n",
              "    };\n",
              "  }\n",
              "\n",
              "  for (const file of files) {\n",
              "    const li = document.createElement('li');\n",
              "    li.append(span(file.name, {fontWeight: 'bold'}));\n",
              "    li.append(span(\n",
              "        `(${file.type || 'n/a'}) - ${file.size} bytes, ` +\n",
              "        `last modified: ${\n",
              "            file.lastModifiedDate ? file.lastModifiedDate.toLocaleDateString() :\n",
              "                                    'n/a'} - `));\n",
              "    const percent = span('0% done');\n",
              "    li.appendChild(percent);\n",
              "\n",
              "    outputElement.appendChild(li);\n",
              "\n",
              "    const fileDataPromise = new Promise((resolve) => {\n",
              "      const reader = new FileReader();\n",
              "      reader.onload = (e) => {\n",
              "        resolve(e.target.result);\n",
              "      };\n",
              "      reader.readAsArrayBuffer(file);\n",
              "    });\n",
              "    // Wait for the data to be ready.\n",
              "    let fileData = yield {\n",
              "      promise: fileDataPromise,\n",
              "      response: {\n",
              "        action: 'continue',\n",
              "      }\n",
              "    };\n",
              "\n",
              "    // Use a chunked sending to avoid message size limits. See b/62115660.\n",
              "    let position = 0;\n",
              "    do {\n",
              "      const length = Math.min(fileData.byteLength - position, MAX_PAYLOAD_SIZE);\n",
              "      const chunk = new Uint8Array(fileData, position, length);\n",
              "      position += length;\n",
              "\n",
              "      const base64 = btoa(String.fromCharCode.apply(null, chunk));\n",
              "      yield {\n",
              "        response: {\n",
              "          action: 'append',\n",
              "          file: file.name,\n",
              "          data: base64,\n",
              "        },\n",
              "      };\n",
              "\n",
              "      let percentDone = fileData.byteLength === 0 ?\n",
              "          100 :\n",
              "          Math.round((position / fileData.byteLength) * 100);\n",
              "      percent.textContent = `${percentDone}% done`;\n",
              "\n",
              "    } while (position < fileData.byteLength);\n",
              "  }\n",
              "\n",
              "  // All done.\n",
              "  yield {\n",
              "    response: {\n",
              "      action: 'complete',\n",
              "    }\n",
              "  };\n",
              "}\n",
              "\n",
              "scope.google = scope.google || {};\n",
              "scope.google.colab = scope.google.colab || {};\n",
              "scope.google.colab._files = {\n",
              "  _uploadFiles,\n",
              "  _uploadFilesContinue,\n",
              "};\n",
              "})(self);\n",
              "</script> "
            ]
          },
          "metadata": {}
        },
        {
          "output_type": "stream",
          "name": "stdout",
          "text": [
            "Saving rosalind_rna.txt to rosalind_rna (1).txt\n",
            "GAGUAAUUGCAAUUCGUCGUUUCAAAGCUGUGUAACAAUGCUCACAUGGCGCCCAGUGACGUCUGUCGAUACUCCUCUAGAUUAAGACCAUGACUCCUUGCCAAUUGGCUGGAGUGGGAUGCUGGUCACUGGACGCAGGACAAUCGGAUCGUGGGUCAUACGUAGAUGUAGACGCGAGUCCCUUCCGUUUGUUGAGGUAGGCACAUGCGCAUUGUCUCCACUCAAUAUAACCUACUAAUUUCCUAUUGGACAGUGCAGCGGCGAUAUGGGUGGCUGCGCGCGUUAAGCUGUUAUUAUCUGCUUCGAAUACAGCAUAGUUCCACGACGGCGUCCCGAUAGUCGUGGUCGGGGCACAUUCCAAGGCAGACCGUUAUAUCCAUGUCAUGUCGAAAAUUUUGCCCUGCCAUUUAGCCUUUUUAUCUAUGCACAGGGUUGUACUAUACUCAUGGUCAAGCACGUGGAUGGAGGCGCCUGGUUGUGGGUCCGACGAUUUGUCAGAUGGCUGAGUCACUGUGCACAGAUCUUGUUCAUGUCCUAACAACUGAGUUGUUUGAAACACCUGACCAGAUUCAGGCCUGUCUCGCGGCAUGCGCCCGUUAUCGGAUUAGUUCAGUGCACAUGUUCGGGUAUGGCGACCGGGCCUGAACGCCAGAUGGUCGAGUAGAAGUCACUGCGUACUAUACGUGAUGUGACUAUCACAGAGUGUACUGCAUGUCUUACCAAGACCAGACUCGAGUUCCACUACAUUACACCUCUAUCCAGAUGCUUUAGCGGGUCCGCCACCUGUUAAUCUACCUAUGAUCUGCGGUAGGCCCUCUAGGCAUUGUAGCUGUAAAGUAUAUCGCCCAAGUCCGUGCACAGCCUCAGACCAACGGUAUAAUCGGCGGUCAGAUCUGAUGAUUUGUUUAUAGAAGUACAAGCUGACCGAGGAAUAACGACCCACCCCGCGUUAUAAUGCGAUGGGUAGUCCCUUGGGCUUCGCUGUAUUAAUUUCGA\n"
          ]
        }
      ]
    },
    {
      "cell_type": "markdown",
      "source": [
        "# P21.2 – Rosalind #8\n"
      ],
      "metadata": {
        "id": "rm31069m9SwN"
      }
    },
    {
      "cell_type": "code",
      "source": [
        "from Bio.Seq import Seq\n",
        "from google.colab import files\n",
        "uploaded = files.upload()\n",
        "with open(\"rosalind_prot.txt\", \"r\") as f:\n",
        "    rna = Seq(f.read().strip())\n",
        "\n",
        "protein = rna.translate(to_stop=True)  # stop at first stop codon\n",
        "print(protein)"
      ],
      "metadata": {
        "colab": {
          "base_uri": "https://localhost:8080/",
          "height": 110
        },
        "id": "zG7SD2M59TJy",
        "outputId": "e304c937-d29f-48d9-e8d0-c79f9091d521"
      },
      "execution_count": 37,
      "outputs": [
        {
          "output_type": "display_data",
          "data": {
            "text/plain": [
              "<IPython.core.display.HTML object>"
            ],
            "text/html": [
              "\n",
              "     <input type=\"file\" id=\"files-9b079fea-15ba-4c41-a203-8a5b7d9afafb\" name=\"files[]\" multiple disabled\n",
              "        style=\"border:none\" />\n",
              "     <output id=\"result-9b079fea-15ba-4c41-a203-8a5b7d9afafb\">\n",
              "      Upload widget is only available when the cell has been executed in the\n",
              "      current browser session. Please rerun this cell to enable.\n",
              "      </output>\n",
              "      <script>// Copyright 2017 Google LLC\n",
              "//\n",
              "// Licensed under the Apache License, Version 2.0 (the \"License\");\n",
              "// you may not use this file except in compliance with the License.\n",
              "// You may obtain a copy of the License at\n",
              "//\n",
              "//      http://www.apache.org/licenses/LICENSE-2.0\n",
              "//\n",
              "// Unless required by applicable law or agreed to in writing, software\n",
              "// distributed under the License is distributed on an \"AS IS\" BASIS,\n",
              "// WITHOUT WARRANTIES OR CONDITIONS OF ANY KIND, either express or implied.\n",
              "// See the License for the specific language governing permissions and\n",
              "// limitations under the License.\n",
              "\n",
              "/**\n",
              " * @fileoverview Helpers for google.colab Python module.\n",
              " */\n",
              "(function(scope) {\n",
              "function span(text, styleAttributes = {}) {\n",
              "  const element = document.createElement('span');\n",
              "  element.textContent = text;\n",
              "  for (const key of Object.keys(styleAttributes)) {\n",
              "    element.style[key] = styleAttributes[key];\n",
              "  }\n",
              "  return element;\n",
              "}\n",
              "\n",
              "// Max number of bytes which will be uploaded at a time.\n",
              "const MAX_PAYLOAD_SIZE = 100 * 1024;\n",
              "\n",
              "function _uploadFiles(inputId, outputId) {\n",
              "  const steps = uploadFilesStep(inputId, outputId);\n",
              "  const outputElement = document.getElementById(outputId);\n",
              "  // Cache steps on the outputElement to make it available for the next call\n",
              "  // to uploadFilesContinue from Python.\n",
              "  outputElement.steps = steps;\n",
              "\n",
              "  return _uploadFilesContinue(outputId);\n",
              "}\n",
              "\n",
              "// This is roughly an async generator (not supported in the browser yet),\n",
              "// where there are multiple asynchronous steps and the Python side is going\n",
              "// to poll for completion of each step.\n",
              "// This uses a Promise to block the python side on completion of each step,\n",
              "// then passes the result of the previous step as the input to the next step.\n",
              "function _uploadFilesContinue(outputId) {\n",
              "  const outputElement = document.getElementById(outputId);\n",
              "  const steps = outputElement.steps;\n",
              "\n",
              "  const next = steps.next(outputElement.lastPromiseValue);\n",
              "  return Promise.resolve(next.value.promise).then((value) => {\n",
              "    // Cache the last promise value to make it available to the next\n",
              "    // step of the generator.\n",
              "    outputElement.lastPromiseValue = value;\n",
              "    return next.value.response;\n",
              "  });\n",
              "}\n",
              "\n",
              "/**\n",
              " * Generator function which is called between each async step of the upload\n",
              " * process.\n",
              " * @param {string} inputId Element ID of the input file picker element.\n",
              " * @param {string} outputId Element ID of the output display.\n",
              " * @return {!Iterable<!Object>} Iterable of next steps.\n",
              " */\n",
              "function* uploadFilesStep(inputId, outputId) {\n",
              "  const inputElement = document.getElementById(inputId);\n",
              "  inputElement.disabled = false;\n",
              "\n",
              "  const outputElement = document.getElementById(outputId);\n",
              "  outputElement.innerHTML = '';\n",
              "\n",
              "  const pickedPromise = new Promise((resolve) => {\n",
              "    inputElement.addEventListener('change', (e) => {\n",
              "      resolve(e.target.files);\n",
              "    });\n",
              "  });\n",
              "\n",
              "  const cancel = document.createElement('button');\n",
              "  inputElement.parentElement.appendChild(cancel);\n",
              "  cancel.textContent = 'Cancel upload';\n",
              "  const cancelPromise = new Promise((resolve) => {\n",
              "    cancel.onclick = () => {\n",
              "      resolve(null);\n",
              "    };\n",
              "  });\n",
              "\n",
              "  // Wait for the user to pick the files.\n",
              "  const files = yield {\n",
              "    promise: Promise.race([pickedPromise, cancelPromise]),\n",
              "    response: {\n",
              "      action: 'starting',\n",
              "    }\n",
              "  };\n",
              "\n",
              "  cancel.remove();\n",
              "\n",
              "  // Disable the input element since further picks are not allowed.\n",
              "  inputElement.disabled = true;\n",
              "\n",
              "  if (!files) {\n",
              "    return {\n",
              "      response: {\n",
              "        action: 'complete',\n",
              "      }\n",
              "    };\n",
              "  }\n",
              "\n",
              "  for (const file of files) {\n",
              "    const li = document.createElement('li');\n",
              "    li.append(span(file.name, {fontWeight: 'bold'}));\n",
              "    li.append(span(\n",
              "        `(${file.type || 'n/a'}) - ${file.size} bytes, ` +\n",
              "        `last modified: ${\n",
              "            file.lastModifiedDate ? file.lastModifiedDate.toLocaleDateString() :\n",
              "                                    'n/a'} - `));\n",
              "    const percent = span('0% done');\n",
              "    li.appendChild(percent);\n",
              "\n",
              "    outputElement.appendChild(li);\n",
              "\n",
              "    const fileDataPromise = new Promise((resolve) => {\n",
              "      const reader = new FileReader();\n",
              "      reader.onload = (e) => {\n",
              "        resolve(e.target.result);\n",
              "      };\n",
              "      reader.readAsArrayBuffer(file);\n",
              "    });\n",
              "    // Wait for the data to be ready.\n",
              "    let fileData = yield {\n",
              "      promise: fileDataPromise,\n",
              "      response: {\n",
              "        action: 'continue',\n",
              "      }\n",
              "    };\n",
              "\n",
              "    // Use a chunked sending to avoid message size limits. See b/62115660.\n",
              "    let position = 0;\n",
              "    do {\n",
              "      const length = Math.min(fileData.byteLength - position, MAX_PAYLOAD_SIZE);\n",
              "      const chunk = new Uint8Array(fileData, position, length);\n",
              "      position += length;\n",
              "\n",
              "      const base64 = btoa(String.fromCharCode.apply(null, chunk));\n",
              "      yield {\n",
              "        response: {\n",
              "          action: 'append',\n",
              "          file: file.name,\n",
              "          data: base64,\n",
              "        },\n",
              "      };\n",
              "\n",
              "      let percentDone = fileData.byteLength === 0 ?\n",
              "          100 :\n",
              "          Math.round((position / fileData.byteLength) * 100);\n",
              "      percent.textContent = `${percentDone}% done`;\n",
              "\n",
              "    } while (position < fileData.byteLength);\n",
              "  }\n",
              "\n",
              "  // All done.\n",
              "  yield {\n",
              "    response: {\n",
              "      action: 'complete',\n",
              "    }\n",
              "  };\n",
              "}\n",
              "\n",
              "scope.google = scope.google || {};\n",
              "scope.google.colab = scope.google.colab || {};\n",
              "scope.google.colab._files = {\n",
              "  _uploadFiles,\n",
              "  _uploadFilesContinue,\n",
              "};\n",
              "})(self);\n",
              "</script> "
            ]
          },
          "metadata": {}
        },
        {
          "output_type": "stream",
          "name": "stdout",
          "text": [
            "Saving rosalind_prot.txt to rosalind_prot.txt\n",
            "MLGPFPVRVVLINCTYPVVRCARAAFHPAVHRTVAAKMGICSRALDLDGAARGSVRLPAVEPSIPKLLLGFTQAVILHLQSFADLGRSAEFQLYPSRIVFRVMSAGLKAWSEVSSIYGVHHGNDPCPRRAYRPTLVTGVHHLGVFSNSSCVPHTHRSGKENTDQRRVTVSFRTPKTDKALVVLALRVGCNSPLIAQGSRSSKGIDSTKGDPPSRCVGKGHESQAAALIKQAISWRSHCSRSFRYSRYYNELVRRVRTSVIGSQRRRRRFCHGSRACLLPHSEAIPRNQEQRYNVWTVSSPRAVNSLTTRLCCLCQANATRTSTPLEGTLPSHRLKRHSDPRERATQREDVALTNGMRSDYITVADTLEQQTSRRNILSLYAAVGGVHHSSGSASEASLAHDASRGRLCAFGIAVCTVYRISRNHDVSFSCVRAENGHCDLVMGLASRYGSIALANVTRLYSLVQAGLTDSPRLRPPRTGLLKRFHALKCSSCCVISFLGVLEGKKHRWSTAPTSMISWSTYPVGTPKPGEVLVVHAGVKKNPLLARKPTSDTRREAPSNRCAPTVGSCNITCNGIDKILILGRCICTSVLPSLVLRSITCQQCLHYRPYAPLQLRLSFIRGLILVMGSFRMGGTDHSPERLVAIRLHSSLYECDALKPTTGPLSLGVSGGLIRFVLPVALPNVTCKFYLLLSTPVIEFLSVSLSSLNKESKKTTQAPTSKTTELIRRRVEGVTSGIGTVLSTMMCGIDKASSHDSSARYGRYARYVAAQMRMTWYQRLRTRRRPCYSLRHPINVSRSAHPAPCTSKIYKSRNKRHRTRRERTRRPRECLNRCWENLVRLSCRCENKFFVRAQTCVCYSVKTVTGVGQRVIDGSHSIILIGLSMSALRILTGHESGLDSRCVATPFYLEKGSRGVFGLENWPLICILAGRNLRSRSSSVIYVQTCTFECNRPVESQMICTFRHRYVRTGLTPLVNVTRGLLRYGHSASKPSLSRRKDSRCPVQARSSNMARPEMPGKGPTGTLSVTMLCVNSPSYVCDTLRLPFTHFYRYLKYFCRRACIAESRRQLGRYPNSPRLRYRGTEAGYERIVPPLTDRAQYSNPLSVSKTIGLTYVARHDSGRSYPNGPPSRQPSGVENKNTPILKASCTSQLLNVAPLTLTRCATVKRRLRPSDYWSSILGELCLSTPCSHGSLRLVKTLVVLLTILSYANVQRIVRVVVLGTMRMEPSLTLDTRVHWSHIRSFHIVQAFLPYSKRCPLLYQTNTSNRYTVCLVTESRTPHRALGIHKADHASVRQDQTNMGAIDSSGHRHHNVGSLETINHMIPAFRLSTSIHGLRVNAFQSQPFNPDNVLPHRLRLLHRAISGLSNLRTWCHTKPPSQYGFIVWWSRVDDTKSWSSTSKFPSYITLARQSSTWNSKSTGRAALHSTPQDDLSPRSTGTGAIQGCQLSVTRSYTSTTTPAMTGAYSNTDNFLRKRIILTFRCGAQAEASSRQCCLPECASIVAEEHRPCRSRQLWRNICVLRSCGIADVQTCAILISLDALLDHKRMGLAQNLPFAPYYHVHAQLRNYILPNKTRHSIRRSLCVPNTGASYARRGRGINEQRLRLACTLPIGPCTNPGEIRVSPQEHKLSHGNANKPHRRLALLAVGICKRRTSDRVVTVQFVRYGTLDPRLYRGYEVGPHALPDTYSCSACRVETNFGFESVPSRARPMFDWLFGLEAFLHLPLNHNAPFSLHHATLGSNGAPRTRRGTLTLQMDIQVSPSNPRHPVQKCLTNAARNCMTDPPVQLQSYYTVLLKWVNPHSGVRTVYTYLRNCPVLCGEPCIVLVRPLPKGCTHRSQISLAFARGRNHLTGTLSCSFLGLSCKLNICSDDIVHSKPSNLAHEHSIRALQLSLQVKPPLSTPPVNWGAILDARNNQCRIIGIKTHPNHSNEYELKVRYSGPALAVLVPSHARAKFGRDYSSPKRQAVDCNSHSVAMATSFDDKRRRKVALITFLASWVNHRQAGSCSFYIPKSLYGTARYTVVRPSQPPPTGRLRNLIHRIGRLEKCGKHPIHCDHNHTRVVPGWRRVSRVKVMEFAKKVRRALCPRHLLFGGEYRPLLSLQAYRKSVVNPRNQNPCLDSSRVPIPSMSHRFVSHVRLERPPFNQTRPGEWALFTIIPRPPVCLTEVLVIAPLGFQRRLEMIAASERGVMVEADVHMFDVSVRCDDASEELAAGKNRTRWGTHITHQGLGSATRGAESLVSRRKLWGGHYLHMPFYRGLVAIYIDPCLRECSVLVHTVSRRKLCSIVVLTLDTKPLICFQMPSVSLGPGSDMERIRPYTQLCHCVSLRSTSTEETLIFHFCPVPGLAERTVSYSLVRADSVKSKTTSMLFSAIVLKHGLRRIPRSSGSVLPGWTHNRTIRIKADRRRLTQRDEGTRQCPPCCDAGQLRPCYLWITGPIATVQVLESLEKSESQDVRRILFAVTQRCVHSFSIRLGKSSRLLQQTGEKLRPCLCHEPTILMEWNLLFRDSTTIVFFCTVVSLVPPSRGAYQVSSTLVRLLRPRNQLSGEICFTTPGTECLCVEGSTLPLIHQVSVGLSNSTQCRHLFIVSLGYLGSTPVESIFLAEPGGSVSERAGPMAFGAAHAIFLCRDLRRMAIGNSARPLLTGKNGLWLRITGGVGMGIHREPLMPSSEYSGMPMRLPGGQCLKVSRLRSGSSFGVLAERYVAKPRYILPARLHADQLRERHLFTFKVNA\n"
          ]
        }
      ]
    },
    {
      "cell_type": "markdown",
      "source": [
        "\n",
        "\n",
        "# P22.1"
      ],
      "metadata": {
        "id": "feDn4Ngz-G_g"
      }
    },
    {
      "cell_type": "code",
      "source": [
        "from Bio.SeqIO import parse\n",
        "from google.colab import files\n",
        "uploaded = files.upload()\n",
        "for rec in parse(\"practice_9.txt\", \"fasta\"):\n",
        "    print(rec.id)          # ID\n",
        "    # print(len(rec.seq))  # length if you want"
      ],
      "metadata": {
        "colab": {
          "base_uri": "https://localhost:8080/",
          "height": 177
        },
        "id": "UGFrsUjE91L1",
        "outputId": "8a1cd231-5a89-42c5-ee9d-05ca64d47d8d"
      },
      "execution_count": 41,
      "outputs": [
        {
          "output_type": "display_data",
          "data": {
            "text/plain": [
              "<IPython.core.display.HTML object>"
            ],
            "text/html": [
              "\n",
              "     <input type=\"file\" id=\"files-45119eef-0d32-4e71-a023-cc3524d8a4c7\" name=\"files[]\" multiple disabled\n",
              "        style=\"border:none\" />\n",
              "     <output id=\"result-45119eef-0d32-4e71-a023-cc3524d8a4c7\">\n",
              "      Upload widget is only available when the cell has been executed in the\n",
              "      current browser session. Please rerun this cell to enable.\n",
              "      </output>\n",
              "      <script>// Copyright 2017 Google LLC\n",
              "//\n",
              "// Licensed under the Apache License, Version 2.0 (the \"License\");\n",
              "// you may not use this file except in compliance with the License.\n",
              "// You may obtain a copy of the License at\n",
              "//\n",
              "//      http://www.apache.org/licenses/LICENSE-2.0\n",
              "//\n",
              "// Unless required by applicable law or agreed to in writing, software\n",
              "// distributed under the License is distributed on an \"AS IS\" BASIS,\n",
              "// WITHOUT WARRANTIES OR CONDITIONS OF ANY KIND, either express or implied.\n",
              "// See the License for the specific language governing permissions and\n",
              "// limitations under the License.\n",
              "\n",
              "/**\n",
              " * @fileoverview Helpers for google.colab Python module.\n",
              " */\n",
              "(function(scope) {\n",
              "function span(text, styleAttributes = {}) {\n",
              "  const element = document.createElement('span');\n",
              "  element.textContent = text;\n",
              "  for (const key of Object.keys(styleAttributes)) {\n",
              "    element.style[key] = styleAttributes[key];\n",
              "  }\n",
              "  return element;\n",
              "}\n",
              "\n",
              "// Max number of bytes which will be uploaded at a time.\n",
              "const MAX_PAYLOAD_SIZE = 100 * 1024;\n",
              "\n",
              "function _uploadFiles(inputId, outputId) {\n",
              "  const steps = uploadFilesStep(inputId, outputId);\n",
              "  const outputElement = document.getElementById(outputId);\n",
              "  // Cache steps on the outputElement to make it available for the next call\n",
              "  // to uploadFilesContinue from Python.\n",
              "  outputElement.steps = steps;\n",
              "\n",
              "  return _uploadFilesContinue(outputId);\n",
              "}\n",
              "\n",
              "// This is roughly an async generator (not supported in the browser yet),\n",
              "// where there are multiple asynchronous steps and the Python side is going\n",
              "// to poll for completion of each step.\n",
              "// This uses a Promise to block the python side on completion of each step,\n",
              "// then passes the result of the previous step as the input to the next step.\n",
              "function _uploadFilesContinue(outputId) {\n",
              "  const outputElement = document.getElementById(outputId);\n",
              "  const steps = outputElement.steps;\n",
              "\n",
              "  const next = steps.next(outputElement.lastPromiseValue);\n",
              "  return Promise.resolve(next.value.promise).then((value) => {\n",
              "    // Cache the last promise value to make it available to the next\n",
              "    // step of the generator.\n",
              "    outputElement.lastPromiseValue = value;\n",
              "    return next.value.response;\n",
              "  });\n",
              "}\n",
              "\n",
              "/**\n",
              " * Generator function which is called between each async step of the upload\n",
              " * process.\n",
              " * @param {string} inputId Element ID of the input file picker element.\n",
              " * @param {string} outputId Element ID of the output display.\n",
              " * @return {!Iterable<!Object>} Iterable of next steps.\n",
              " */\n",
              "function* uploadFilesStep(inputId, outputId) {\n",
              "  const inputElement = document.getElementById(inputId);\n",
              "  inputElement.disabled = false;\n",
              "\n",
              "  const outputElement = document.getElementById(outputId);\n",
              "  outputElement.innerHTML = '';\n",
              "\n",
              "  const pickedPromise = new Promise((resolve) => {\n",
              "    inputElement.addEventListener('change', (e) => {\n",
              "      resolve(e.target.files);\n",
              "    });\n",
              "  });\n",
              "\n",
              "  const cancel = document.createElement('button');\n",
              "  inputElement.parentElement.appendChild(cancel);\n",
              "  cancel.textContent = 'Cancel upload';\n",
              "  const cancelPromise = new Promise((resolve) => {\n",
              "    cancel.onclick = () => {\n",
              "      resolve(null);\n",
              "    };\n",
              "  });\n",
              "\n",
              "  // Wait for the user to pick the files.\n",
              "  const files = yield {\n",
              "    promise: Promise.race([pickedPromise, cancelPromise]),\n",
              "    response: {\n",
              "      action: 'starting',\n",
              "    }\n",
              "  };\n",
              "\n",
              "  cancel.remove();\n",
              "\n",
              "  // Disable the input element since further picks are not allowed.\n",
              "  inputElement.disabled = true;\n",
              "\n",
              "  if (!files) {\n",
              "    return {\n",
              "      response: {\n",
              "        action: 'complete',\n",
              "      }\n",
              "    };\n",
              "  }\n",
              "\n",
              "  for (const file of files) {\n",
              "    const li = document.createElement('li');\n",
              "    li.append(span(file.name, {fontWeight: 'bold'}));\n",
              "    li.append(span(\n",
              "        `(${file.type || 'n/a'}) - ${file.size} bytes, ` +\n",
              "        `last modified: ${\n",
              "            file.lastModifiedDate ? file.lastModifiedDate.toLocaleDateString() :\n",
              "                                    'n/a'} - `));\n",
              "    const percent = span('0% done');\n",
              "    li.appendChild(percent);\n",
              "\n",
              "    outputElement.appendChild(li);\n",
              "\n",
              "    const fileDataPromise = new Promise((resolve) => {\n",
              "      const reader = new FileReader();\n",
              "      reader.onload = (e) => {\n",
              "        resolve(e.target.result);\n",
              "      };\n",
              "      reader.readAsArrayBuffer(file);\n",
              "    });\n",
              "    // Wait for the data to be ready.\n",
              "    let fileData = yield {\n",
              "      promise: fileDataPromise,\n",
              "      response: {\n",
              "        action: 'continue',\n",
              "      }\n",
              "    };\n",
              "\n",
              "    // Use a chunked sending to avoid message size limits. See b/62115660.\n",
              "    let position = 0;\n",
              "    do {\n",
              "      const length = Math.min(fileData.byteLength - position, MAX_PAYLOAD_SIZE);\n",
              "      const chunk = new Uint8Array(fileData, position, length);\n",
              "      position += length;\n",
              "\n",
              "      const base64 = btoa(String.fromCharCode.apply(null, chunk));\n",
              "      yield {\n",
              "        response: {\n",
              "          action: 'append',\n",
              "          file: file.name,\n",
              "          data: base64,\n",
              "        },\n",
              "      };\n",
              "\n",
              "      let percentDone = fileData.byteLength === 0 ?\n",
              "          100 :\n",
              "          Math.round((position / fileData.byteLength) * 100);\n",
              "      percent.textContent = `${percentDone}% done`;\n",
              "\n",
              "    } while (position < fileData.byteLength);\n",
              "  }\n",
              "\n",
              "  // All done.\n",
              "  yield {\n",
              "    response: {\n",
              "      action: 'complete',\n",
              "    }\n",
              "  };\n",
              "}\n",
              "\n",
              "scope.google = scope.google || {};\n",
              "scope.google.colab = scope.google.colab || {};\n",
              "scope.google.colab._files = {\n",
              "  _uploadFiles,\n",
              "  _uploadFilesContinue,\n",
              "};\n",
              "})(self);\n",
              "</script> "
            ]
          },
          "metadata": {}
        },
        {
          "output_type": "stream",
          "name": "stdout",
          "text": [
            "Saving practice_9.txt to practice_9.txt\n",
            "Rosalind_2425\n",
            "Rosalind_6859\n",
            "Rosalind_8670\n",
            "Rosalind_6202\n",
            "Rosalind_6122\n",
            "Rosalind_0569\n"
          ]
        }
      ]
    },
    {
      "cell_type": "markdown",
      "source": [
        "\n",
        "\n",
        "# P23.1"
      ],
      "metadata": {
        "id": "OKd-i1d--K8D"
      }
    },
    {
      "cell_type": "code",
      "source": [
        "from Bio.SeqIO import parse\n",
        "from Bio.SeqUtils import gc_fraction\n",
        "\n",
        "for rec in parse(\"practice_9.txt\", \"fasta\"):\n",
        "    print(rec.id, round(gc_fraction(str(rec.seq)) * 100, 6))"
      ],
      "metadata": {
        "colab": {
          "base_uri": "https://localhost:8080/"
        },
        "id": "QKNftZUV-M8u",
        "outputId": "cd29787a-d1d1-4120-d4bd-f6c634ef4816"
      },
      "execution_count": 42,
      "outputs": [
        {
          "output_type": "stream",
          "name": "stdout",
          "text": [
            "Rosalind_2425 49.480249\n",
            "Rosalind_6859 48.121212\n",
            "Rosalind_8670 48.886532\n",
            "Rosalind_6202 49.948187\n",
            "Rosalind_6122 50.909091\n",
            "Rosalind_0569 50.879007\n"
          ]
        }
      ]
    },
    {
      "cell_type": "markdown",
      "source": [
        "# P23.2 – Rosalind #9"
      ],
      "metadata": {
        "id": "AHL5xLL0-TjP"
      }
    },
    {
      "cell_type": "code",
      "source": [
        "from Bio.SeqIO import parse\n",
        "from Bio.SeqUtils import gc_fraction\n",
        "\n",
        "best_id, best_gc = None, -1.0\n",
        "for rec in parse(\"practice_9.txt\", \"fasta\"):\n",
        "    gc = gc_fraction(str(rec.seq))\n",
        "    if gc > best_gc:\n",
        "        best_gc, best_id = gc, rec.id\n",
        "\n",
        "print(best_id)\n",
        "print(round(best_gc * 100, 6))"
      ],
      "metadata": {
        "colab": {
          "base_uri": "https://localhost:8080/"
        },
        "id": "5D_wtRJT-Vep",
        "outputId": "f22478b3-1330-4b59-a92b-a917ef54fba5"
      },
      "execution_count": 43,
      "outputs": [
        {
          "output_type": "stream",
          "name": "stdout",
          "text": [
            "Rosalind_6122\n",
            "50.909091\n"
          ]
        }
      ]
    },
    {
      "cell_type": "code",
      "source": [],
      "metadata": {
        "id": "Orq8sIK_-l9d"
      },
      "execution_count": null,
      "outputs": []
    }
  ]
}